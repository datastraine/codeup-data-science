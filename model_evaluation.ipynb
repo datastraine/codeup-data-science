{
 "cells": [
  {
   "cell_type": "code",
   "execution_count": 45,
   "metadata": {},
   "outputs": [
    {
     "name": "stdout",
     "output_type": "stream",
     "text": [
      "Success\n"
     ]
    }
   ],
   "source": [
    "import numpy as np\n",
    "import pandas as pd\n",
    "import seaborn as sns\n",
    "import matplotlib as plt\n",
    "from pydataset import data\n",
    "import pandas as pd\n",
    "import numpy as np\n",
    "import acquire\n",
    "\n",
    "import sklearn\n",
    "print('Success')"
   ]
  },
  {
   "cell_type": "markdown",
   "metadata": {},
   "source": [
    "## Evaluate (by hand) the model's performance.\n",
    "\n",
    "\n",
    "|               | actual cat | actual dog |\n",
    "|:------------  |-----------:|-----------:|\n",
    "| predicted cat |         34 |          7 |\n",
    "| predicted dog |         13 |         46 |"
   ]
  },
  {
   "cell_type": "markdown",
   "metadata": {},
   "source": [
    "* In the context of this problem, what is a false positive?\n",
    "  - Answer: Assuming we are evaluating whether an animal is a dog or not, a false positive would be classifiying an animal as a dog when it was not a dog (either a cat or some other animal)\n",
    "* In the context of this problem, what is a false negative?\n",
    "  - Answer: Assuming we are evaluating whether an animal is a dog or not, a false negative would be classifiying an animal as not a dog (or a cat) when it really was a dog\n",
    "* How would you describe this model?\n",
    "  - Answer: "
   ]
  },
  {
   "cell_type": "markdown",
   "metadata": {},
   "source": [
    "## C3 \n",
    "Unfortunately, some of the rubber ducks that are produced will have defects. Your team has built several models that try to predict those defects, and the data from their predictions can be found here (C3.csv)."
   ]
  },
  {
   "cell_type": "code",
   "execution_count": 29,
   "metadata": {
    "scrolled": true
   },
   "outputs": [
    {
     "data": {
      "text/html": [
       "<div>\n",
       "<style scoped>\n",
       "    .dataframe tbody tr th:only-of-type {\n",
       "        vertical-align: middle;\n",
       "    }\n",
       "\n",
       "    .dataframe tbody tr th {\n",
       "        vertical-align: top;\n",
       "    }\n",
       "\n",
       "    .dataframe thead th {\n",
       "        text-align: right;\n",
       "    }\n",
       "</style>\n",
       "<table border=\"1\" class=\"dataframe\">\n",
       "  <thead>\n",
       "    <tr style=\"text-align: right;\">\n",
       "      <th></th>\n",
       "      <th>actual</th>\n",
       "      <th>model1</th>\n",
       "      <th>model2</th>\n",
       "      <th>model3</th>\n",
       "    </tr>\n",
       "  </thead>\n",
       "  <tbody>\n",
       "    <tr>\n",
       "      <th>0</th>\n",
       "      <td>No Defect</td>\n",
       "      <td>No Defect</td>\n",
       "      <td>Defect</td>\n",
       "      <td>No Defect</td>\n",
       "    </tr>\n",
       "    <tr>\n",
       "      <th>1</th>\n",
       "      <td>No Defect</td>\n",
       "      <td>No Defect</td>\n",
       "      <td>Defect</td>\n",
       "      <td>Defect</td>\n",
       "    </tr>\n",
       "    <tr>\n",
       "      <th>2</th>\n",
       "      <td>No Defect</td>\n",
       "      <td>No Defect</td>\n",
       "      <td>Defect</td>\n",
       "      <td>No Defect</td>\n",
       "    </tr>\n",
       "    <tr>\n",
       "      <th>3</th>\n",
       "      <td>No Defect</td>\n",
       "      <td>Defect</td>\n",
       "      <td>Defect</td>\n",
       "      <td>Defect</td>\n",
       "    </tr>\n",
       "    <tr>\n",
       "      <th>4</th>\n",
       "      <td>No Defect</td>\n",
       "      <td>No Defect</td>\n",
       "      <td>Defect</td>\n",
       "      <td>No Defect</td>\n",
       "    </tr>\n",
       "  </tbody>\n",
       "</table>\n",
       "</div>"
      ],
      "text/plain": [
       "      actual     model1  model2     model3\n",
       "0  No Defect  No Defect  Defect  No Defect\n",
       "1  No Defect  No Defect  Defect     Defect\n",
       "2  No Defect  No Defect  Defect  No Defect\n",
       "3  No Defect     Defect  Defect     Defect\n",
       "4  No Defect  No Defect  Defect  No Defect"
      ]
     },
     "execution_count": 29,
     "metadata": {},
     "output_type": "execute_result"
    }
   ],
   "source": [
    "c3 = pd.read_csv('c3.csv')\n",
    "c3.head()"
   ]
  },
  {
   "cell_type": "markdown",
   "metadata": {},
   "source": [
    "* An internal team wants to investigate the cause of the manufacturing defects. They tell you that they want to identify as many of the ducks that have a defect as possible. Which evaluation metric would be appropriate here? Which model would be the best fit for this use case?"
   ]
  },
  {
   "cell_type": "code",
   "execution_count": 31,
   "metadata": {
    "scrolled": true
   },
   "outputs": [
    {
     "data": {
      "text/plain": [
       "'model_3'"
      ]
     },
     "execution_count": 31,
     "metadata": {},
     "output_type": "execute_result"
    }
   ],
   "source": [
    "# Recall is the best evaluation metric for this task \n",
    "\n",
    "# Subsect the data to only pull the results where there was an actual defect\n",
    "c3defect = c3[c3.actual == 'Defect']\n",
    "\n",
    "# Recall = TP / (TP + FN)\n",
    "\n",
    "# Create a dictionary of the models' accuracy where the actual value is equal to the predicated value and find which model \n",
    "# has the heightest recall\n",
    "models = {'model_1': (c3defect.model1 == c3defect.actual).mean(),\n",
    "'model_2' : (c3defect.model2 == c3defect.actual).mean(),\n",
    "'model_3' : (c3defect.model3 == c3defect.actual).mean()\n",
    "}\n",
    "\n",
    "max(models, key=models.get)"
   ]
  },
  {
   "cell_type": "markdown",
   "metadata": {},
   "source": [
    "### The most accurate model "
   ]
  },
  {
   "cell_type": "code",
   "execution_count": 37,
   "metadata": {},
   "outputs": [
    {
     "data": {
      "text/plain": [
       "'model_1'"
      ]
     },
     "execution_count": 37,
     "metadata": {},
     "output_type": "execute_result"
    }
   ],
   "source": [
    "# Percision is the best evaluation method for this ask as we don't want to give away vacations to people who had didn't have\n",
    "# a duck with a defect. \n",
    "\n",
    "# Percesion = TP / (TP + FP)\n",
    "# Percesion = count(true defects)/(count defects)\n",
    "\n",
    "\n",
    "percision = {'model_1': (c3.model1 == c3.actual).mean(),\n",
    "'model_2' : (c3.model2 == c3.actual).mean(),\n",
    "'model_3' : (c3.model3 == c3.actual).mean()\n",
    "}\n",
    "\n",
    "max(percision, key=percision.get)"
   ]
  },
  {
   "cell_type": "markdown",
   "metadata": {},
   "source": [
    "* Recently several stories in the local news have come out highlighting customers who received a rubber duck with a defect, and portraying C3 in a bad light. The PR team has decided to launch a program that gives customers with a defective duck a vacation to Hawaii. They need you to predict which ducks will have defects, but tell you the really don't want to accidentally give out a vacation package when the duck really doesn't have a defect. Which evaluation metric would be appropriate here? Which model would be the best fit for this use case?"
   ]
  },
  {
   "cell_type": "code",
   "execution_count": 58,
   "metadata": {},
   "outputs": [
    {
     "data": {
      "text/plain": [
       "'model_3'"
      ]
     },
     "execution_count": 58,
     "metadata": {},
     "output_type": "execute_result"
    }
   ],
   "source": [
    "c3['model1_TP'] = (c3['actual'] == 'Defect') & (c3['model1'] == 'Defect')\n",
    "c3['model2_TP'] = (c3['actual'] == 'Defect') & (c3['model2'] == 'Defect')\n",
    "c3['model3_TP'] = (c3['actual'] == 'Defect') & (c3['model3'] == 'Defect')\n",
    "\n",
    "c3['model1_FP'] = (c3['actual'] == 'No Defect') & (c3['model1'] == 'Defect')\n",
    "c3['model2_FP'] = (c3['actual'] == 'No Defect') & (c3['model1'] == 'Defect')\n",
    "c3['model3_FP'] = (c3['actual'] == 'No Defect') & (c3['model1'] == 'Defect')\n",
    "\n",
    "percision = {'model_1' : c3['model1_TP'].sum()/(c3['model1_FP'].sum() + c3['model1_TP'].sum()) * 100,\n",
    "'model_2' : c3['model2_TP'].sum()/(c3['model2_FP'].sum() + c3['model2_TP'].sum()) * 100,\n",
    "'model_3' :c3['model3_TP'].sum()/(c3['model3_FP'].sum() + c3['model3_TP'].sum()) * 100}\n",
    "max(percision, key=percision.get)"
   ]
  },
  {
   "cell_type": "markdown",
   "metadata": {},
   "source": [
    "## Gives You Paws ™\n",
    "\n",
    "At Gives You Paws, anyone can upload pictures of their cats or dogs. The photos are then put through a two step process. First an automated algorithm tags pictures as either a cat or a dog (Phase I). Next, the photos that have been initially identified are put through another round of review, possibly with some human oversight, before being presented to the users (Phase II).\n",
    "\n",
    "Several models have already been developed with the data, and you can find their results here (gives_you_paws.csv).\n",
    "\n",
    "Given this dataset, use pandas to create a baseline model (i.e. a model that just predicts the most common class) and answer the following questions:"
   ]
  },
  {
   "cell_type": "code",
   "execution_count": 3,
   "metadata": {},
   "outputs": [
    {
     "data": {
      "text/html": [
       "<div>\n",
       "<style scoped>\n",
       "    .dataframe tbody tr th:only-of-type {\n",
       "        vertical-align: middle;\n",
       "    }\n",
       "\n",
       "    .dataframe tbody tr th {\n",
       "        vertical-align: top;\n",
       "    }\n",
       "\n",
       "    .dataframe thead th {\n",
       "        text-align: right;\n",
       "    }\n",
       "</style>\n",
       "<table border=\"1\" class=\"dataframe\">\n",
       "  <thead>\n",
       "    <tr style=\"text-align: right;\">\n",
       "      <th></th>\n",
       "      <th>actual</th>\n",
       "      <th>model1</th>\n",
       "      <th>model2</th>\n",
       "      <th>model3</th>\n",
       "      <th>model4</th>\n",
       "    </tr>\n",
       "  </thead>\n",
       "  <tbody>\n",
       "    <tr>\n",
       "      <th>0</th>\n",
       "      <td>cat</td>\n",
       "      <td>cat</td>\n",
       "      <td>dog</td>\n",
       "      <td>cat</td>\n",
       "      <td>dog</td>\n",
       "    </tr>\n",
       "    <tr>\n",
       "      <th>1</th>\n",
       "      <td>dog</td>\n",
       "      <td>dog</td>\n",
       "      <td>cat</td>\n",
       "      <td>cat</td>\n",
       "      <td>dog</td>\n",
       "    </tr>\n",
       "    <tr>\n",
       "      <th>2</th>\n",
       "      <td>dog</td>\n",
       "      <td>cat</td>\n",
       "      <td>cat</td>\n",
       "      <td>cat</td>\n",
       "      <td>dog</td>\n",
       "    </tr>\n",
       "    <tr>\n",
       "      <th>3</th>\n",
       "      <td>dog</td>\n",
       "      <td>dog</td>\n",
       "      <td>dog</td>\n",
       "      <td>cat</td>\n",
       "      <td>dog</td>\n",
       "    </tr>\n",
       "    <tr>\n",
       "      <th>4</th>\n",
       "      <td>cat</td>\n",
       "      <td>cat</td>\n",
       "      <td>cat</td>\n",
       "      <td>dog</td>\n",
       "      <td>dog</td>\n",
       "    </tr>\n",
       "  </tbody>\n",
       "</table>\n",
       "</div>"
      ],
      "text/plain": [
       "  actual model1 model2 model3 model4\n",
       "0    cat    cat    dog    cat    dog\n",
       "1    dog    dog    cat    cat    dog\n",
       "2    dog    cat    cat    cat    dog\n",
       "3    dog    dog    dog    cat    dog\n",
       "4    cat    cat    cat    dog    dog"
      ]
     },
     "execution_count": 3,
     "metadata": {},
     "output_type": "execute_result"
    }
   ],
   "source": [
    "paws = pd.read_csv('gives_you_paws.csv')\n",
    "paws.head()"
   ]
  },
  {
   "cell_type": "code",
   "execution_count": 4,
   "metadata": {},
   "outputs": [
    {
     "data": {
      "text/html": [
       "<div>\n",
       "<style scoped>\n",
       "    .dataframe tbody tr th:only-of-type {\n",
       "        vertical-align: middle;\n",
       "    }\n",
       "\n",
       "    .dataframe tbody tr th {\n",
       "        vertical-align: top;\n",
       "    }\n",
       "\n",
       "    .dataframe thead th {\n",
       "        text-align: right;\n",
       "    }\n",
       "</style>\n",
       "<table border=\"1\" class=\"dataframe\">\n",
       "  <thead>\n",
       "    <tr style=\"text-align: right;\">\n",
       "      <th></th>\n",
       "      <th>actual</th>\n",
       "      <th>model1</th>\n",
       "      <th>model2</th>\n",
       "      <th>model3</th>\n",
       "      <th>model4</th>\n",
       "      <th>base_line</th>\n",
       "    </tr>\n",
       "  </thead>\n",
       "  <tbody>\n",
       "    <tr>\n",
       "      <th>0</th>\n",
       "      <td>cat</td>\n",
       "      <td>cat</td>\n",
       "      <td>dog</td>\n",
       "      <td>cat</td>\n",
       "      <td>dog</td>\n",
       "      <td>dog</td>\n",
       "    </tr>\n",
       "    <tr>\n",
       "      <th>1</th>\n",
       "      <td>dog</td>\n",
       "      <td>dog</td>\n",
       "      <td>cat</td>\n",
       "      <td>cat</td>\n",
       "      <td>dog</td>\n",
       "      <td>dog</td>\n",
       "    </tr>\n",
       "    <tr>\n",
       "      <th>2</th>\n",
       "      <td>dog</td>\n",
       "      <td>cat</td>\n",
       "      <td>cat</td>\n",
       "      <td>cat</td>\n",
       "      <td>dog</td>\n",
       "      <td>dog</td>\n",
       "    </tr>\n",
       "    <tr>\n",
       "      <th>3</th>\n",
       "      <td>dog</td>\n",
       "      <td>dog</td>\n",
       "      <td>dog</td>\n",
       "      <td>cat</td>\n",
       "      <td>dog</td>\n",
       "      <td>dog</td>\n",
       "    </tr>\n",
       "    <tr>\n",
       "      <th>4</th>\n",
       "      <td>cat</td>\n",
       "      <td>cat</td>\n",
       "      <td>cat</td>\n",
       "      <td>dog</td>\n",
       "      <td>dog</td>\n",
       "      <td>dog</td>\n",
       "    </tr>\n",
       "    <tr>\n",
       "      <th>...</th>\n",
       "      <td>...</td>\n",
       "      <td>...</td>\n",
       "      <td>...</td>\n",
       "      <td>...</td>\n",
       "      <td>...</td>\n",
       "      <td>...</td>\n",
       "    </tr>\n",
       "    <tr>\n",
       "      <th>4995</th>\n",
       "      <td>dog</td>\n",
       "      <td>dog</td>\n",
       "      <td>dog</td>\n",
       "      <td>dog</td>\n",
       "      <td>dog</td>\n",
       "      <td>dog</td>\n",
       "    </tr>\n",
       "    <tr>\n",
       "      <th>4996</th>\n",
       "      <td>dog</td>\n",
       "      <td>dog</td>\n",
       "      <td>cat</td>\n",
       "      <td>cat</td>\n",
       "      <td>dog</td>\n",
       "      <td>dog</td>\n",
       "    </tr>\n",
       "    <tr>\n",
       "      <th>4997</th>\n",
       "      <td>dog</td>\n",
       "      <td>cat</td>\n",
       "      <td>cat</td>\n",
       "      <td>dog</td>\n",
       "      <td>dog</td>\n",
       "      <td>dog</td>\n",
       "    </tr>\n",
       "    <tr>\n",
       "      <th>4998</th>\n",
       "      <td>cat</td>\n",
       "      <td>cat</td>\n",
       "      <td>cat</td>\n",
       "      <td>cat</td>\n",
       "      <td>dog</td>\n",
       "      <td>dog</td>\n",
       "    </tr>\n",
       "    <tr>\n",
       "      <th>4999</th>\n",
       "      <td>dog</td>\n",
       "      <td>dog</td>\n",
       "      <td>dog</td>\n",
       "      <td>dog</td>\n",
       "      <td>dog</td>\n",
       "      <td>dog</td>\n",
       "    </tr>\n",
       "  </tbody>\n",
       "</table>\n",
       "<p>5000 rows × 6 columns</p>\n",
       "</div>"
      ],
      "text/plain": [
       "     actual model1 model2 model3 model4 base_line\n",
       "0       cat    cat    dog    cat    dog       dog\n",
       "1       dog    dog    cat    cat    dog       dog\n",
       "2       dog    cat    cat    cat    dog       dog\n",
       "3       dog    dog    dog    cat    dog       dog\n",
       "4       cat    cat    cat    dog    dog       dog\n",
       "...     ...    ...    ...    ...    ...       ...\n",
       "4995    dog    dog    dog    dog    dog       dog\n",
       "4996    dog    dog    cat    cat    dog       dog\n",
       "4997    dog    cat    cat    dog    dog       dog\n",
       "4998    cat    cat    cat    cat    dog       dog\n",
       "4999    dog    dog    dog    dog    dog       dog\n",
       "\n",
       "[5000 rows x 6 columns]"
      ]
     },
     "execution_count": 4,
     "metadata": {},
     "output_type": "execute_result"
    }
   ],
   "source": [
    "paws['base_line'] = 'dog'"
   ]
  },
  {
   "cell_type": "markdown",
   "metadata": {},
   "source": [
    "* In terms of accuracy, how do the various models compare to the baseline model? Are any of the models better than the baseline?"
   ]
  },
  {
   "cell_type": "code",
   "execution_count": 9,
   "metadata": {},
   "outputs": [
    {
     "name": "stdout",
     "output_type": "stream",
     "text": [
      "{'model_1': 0.8074, 'model_2': 0.6304, 'model_3': 0.5096, 'model_4': 0.7426, 'base_line': 0.6508}\n",
      "\n",
      "The model with the heightest accuracy - model_1\n"
     ]
    }
   ],
   "source": [
    "accuracy = {'model_1': (paws.model1 == paws.actual).mean(),\n",
    "'model_2' : (paws.model2 == paws.actual).mean(),\n",
    "'model_3' : (paws.model3 == paws.actual).mean(),\n",
    "'model_4' : (paws.model4 == paws.actual).mean(),\n",
    "'base_line' : (paws.base_line == paws.actual).mean(),\n",
    "}\n",
    "print(accuracy)\n",
    "print()\n",
    "print(f\"The model with the heightest accuracy - {max(accuracy, key=accuracy.get)}\")\n"
   ]
  },
  {
   "cell_type": "markdown",
   "metadata": {},
   "source": [
    "* Suppose you are working on a team that solely deals with dog pictures. Which of these models would you recomend for Phase I? "
   ]
  },
  {
   "cell_type": "code",
   "execution_count": 23,
   "metadata": {},
   "outputs": [
    {
     "name": "stdout",
     "output_type": "stream",
     "text": [
      "{'model_1': 0.803318992009834, 'model_2': 0.49078057775046097, 'model_3': 0.5086047940995697, 'model_4': 0.9557467732022127}\n",
      "\n",
      "Accuraccy is the best measure for Phase 1 and the model with the heightest accuracy is model_4\n"
     ]
    }
   ],
   "source": [
    "dog = paws[paws['actual'] == 'dog']\n",
    "\n",
    "dog_accuracy = {'model_1': (dog.model1 == dog.actual).mean(),\n",
    "'model_2' : (dog.model2 == dog.actual).mean(),\n",
    "'model_3' : (dog.model3 == dog.actual).mean(),\n",
    "'model_4' : (dog.model4 == dog.actual).mean(),\n",
    "}\n",
    "print(dog_accuracy)\n",
    "print()\n",
    "print(f\"Accuraccy is the best measure for Phase 1 and the model with the heightest accuracy is {max(dog_accuracy, key=dog_accuracy.get)}\")\n",
    "\n"
   ]
  },
  {
   "cell_type": "markdown",
   "metadata": {},
   "source": [
    "* For Phase II?"
   ]
  },
  {
   "cell_type": "code",
   "execution_count": 33,
   "metadata": {},
   "outputs": [
    {
     "name": "stderr",
     "output_type": "stream",
     "text": [
      "<ipython-input-33-f19be94afe90>:2: SettingWithCopyWarning: \n",
      "A value is trying to be set on a copy of a slice from a DataFrame.\n",
      "Try using .loc[row_indexer,col_indexer] = value instead\n",
      "\n",
      "See the caveats in the documentation: https://pandas.pydata.org/pandas-docs/stable/user_guide/indexing.html#returning-a-view-versus-a-copy\n",
      "  dog['model1TP'] = dog.model1 == dog.actual\n",
      "<ipython-input-33-f19be94afe90>:3: SettingWithCopyWarning: \n",
      "A value is trying to be set on a copy of a slice from a DataFrame.\n",
      "Try using .loc[row_indexer,col_indexer] = value instead\n",
      "\n",
      "See the caveats in the documentation: https://pandas.pydata.org/pandas-docs/stable/user_guide/indexing.html#returning-a-view-versus-a-copy\n",
      "  dog['model2TP'] = dog.model2 == dog.actual\n",
      "<ipython-input-33-f19be94afe90>:4: SettingWithCopyWarning: \n",
      "A value is trying to be set on a copy of a slice from a DataFrame.\n",
      "Try using .loc[row_indexer,col_indexer] = value instead\n",
      "\n",
      "See the caveats in the documentation: https://pandas.pydata.org/pandas-docs/stable/user_guide/indexing.html#returning-a-view-versus-a-copy\n",
      "  dog['model3TP'] = dog.model3 == dog.actual\n",
      "<ipython-input-33-f19be94afe90>:5: SettingWithCopyWarning: \n",
      "A value is trying to be set on a copy of a slice from a DataFrame.\n",
      "Try using .loc[row_indexer,col_indexer] = value instead\n",
      "\n",
      "See the caveats in the documentation: https://pandas.pydata.org/pandas-docs/stable/user_guide/indexing.html#returning-a-view-versus-a-copy\n",
      "  dog['model4TP'] = dog.model4 == dog.actual\n",
      "<ipython-input-33-f19be94afe90>:7: SettingWithCopyWarning: \n",
      "A value is trying to be set on a copy of a slice from a DataFrame.\n",
      "Try using .loc[row_indexer,col_indexer] = value instead\n",
      "\n",
      "See the caveats in the documentation: https://pandas.pydata.org/pandas-docs/stable/user_guide/indexing.html#returning-a-view-versus-a-copy\n",
      "  dog['model1FN'] = (dog.model1 == 'cat') & (dog.actual == 'dog')\n",
      "<ipython-input-33-f19be94afe90>:8: SettingWithCopyWarning: \n",
      "A value is trying to be set on a copy of a slice from a DataFrame.\n",
      "Try using .loc[row_indexer,col_indexer] = value instead\n",
      "\n",
      "See the caveats in the documentation: https://pandas.pydata.org/pandas-docs/stable/user_guide/indexing.html#returning-a-view-versus-a-copy\n",
      "  dog['model2FN'] = (dog.model2 == 'cat') & (dog.actual == 'dog')\n",
      "<ipython-input-33-f19be94afe90>:9: SettingWithCopyWarning: \n",
      "A value is trying to be set on a copy of a slice from a DataFrame.\n",
      "Try using .loc[row_indexer,col_indexer] = value instead\n",
      "\n",
      "See the caveats in the documentation: https://pandas.pydata.org/pandas-docs/stable/user_guide/indexing.html#returning-a-view-versus-a-copy\n",
      "  dog['model3FN'] = (dog.model3 == 'cat') & (dog.actual == 'dog')\n",
      "<ipython-input-33-f19be94afe90>:10: SettingWithCopyWarning: \n",
      "A value is trying to be set on a copy of a slice from a DataFrame.\n",
      "Try using .loc[row_indexer,col_indexer] = value instead\n",
      "\n",
      "See the caveats in the documentation: https://pandas.pydata.org/pandas-docs/stable/user_guide/indexing.html#returning-a-view-versus-a-copy\n",
      "  dog['model4FN'] = (dog.model4 == 'cat') & (dog.actual == 'dog')\n"
     ]
    },
    {
     "data": {
      "text/plain": [
       "{'model1': 0.803318992009834,\n",
       " 'model2': 0.49078057775046097,\n",
       " 'model3': 0.5086047940995697,\n",
       " 'model4': 0.9557467732022127}"
      ]
     },
     "execution_count": 33,
     "metadata": {},
     "output_type": "execute_result"
    }
   ],
   "source": [
    "# Recall = TP/TP + FN\n",
    "dog['model1TP'] = dog.model1 == dog.actual\n",
    "dog['model2TP'] = dog.model2 == dog.actual\n",
    "dog['model3TP'] = dog.model3 == dog.actual\n",
    "dog['model4TP'] = dog.model4 == dog.actual\n",
    "\n",
    "dog['model1FN'] = (dog.model1 == 'cat') & (dog.actual == 'dog')\n",
    "dog['model2FN'] = (dog.model2 == 'cat') & (dog.actual == 'dog')\n",
    "dog['model3FN'] = (dog.model3 == 'cat') & (dog.actual == 'dog')\n",
    "dog['model4FN'] = (dog.model4 == 'cat') & (dog.actual == 'dog')\n",
    "\n",
    "dog_recall = {\"model1\": dog['model1TP'].sum()/(dog['model1FN'].sum() + dog['model1TP'].sum()),\n",
    "              \"model2\": dog['model2TP'].sum()/(dog['model2FN'].sum() + dog['model2TP'].sum()),\n",
    "              \"model3\": dog['model3TP'].sum()/(dog['model3FN'].sum() + dog['model3TP'].sum()),\n",
    "              \"model4\": dog['model4TP'].sum()/(dog['model4FN'].sum() + dog['model4TP'].sum())\n",
    "             }\n",
    "dog_recall"
   ]
  },
  {
   "cell_type": "markdown",
   "metadata": {},
   "source": [
    "* Suppose you are working on a team that solely deals with cat pictures. Which of these models would you recomend for Phase I? "
   ]
  },
  {
   "cell_type": "code",
   "execution_count": 35,
   "metadata": {},
   "outputs": [
    {
     "name": "stdout",
     "output_type": "stream",
     "text": [
      "{'model_1': 0.8150057273768614, 'model_2': 0.8906071019473081, 'model_3': 0.5114547537227949, 'model_4': 0.34536082474226804}\n",
      "\n",
      "Accuraccy is the best measure for Phase 1 and the model with the heightest accuracy is model_2\n"
     ]
    }
   ],
   "source": [
    "cat = paws[paws['actual'] == 'cat']\n",
    "\n",
    "cat_accuracy = {'model_1': (cat.model1 == cat.actual).mean(),\n",
    "'model_2' : (cat.model2 == cat.actual).mean(),\n",
    "'model_3' : (cat.model3 == cat.actual).mean(),\n",
    "'model_4' : (cat.model4 == cat.actual).mean(),\n",
    "}\n",
    "print(cat_accuracy)\n",
    "print()\n",
    "print(f\"Accuraccy is the best measure for Phase 1 and the model with the heightest accuracy is {max(cat_accuracy, key=cat_accuracy.get)}\")\n",
    "\n"
   ]
  },
  {
   "cell_type": "markdown",
   "metadata": {},
   "source": [
    "* For Phase II?"
   ]
  },
  {
   "cell_type": "code",
   "execution_count": 43,
   "metadata": {},
   "outputs": [
    {
     "name": "stderr",
     "output_type": "stream",
     "text": [
      "<ipython-input-43-ed89f690daaf>:2: SettingWithCopyWarning: \n",
      "A value is trying to be set on a copy of a slice from a DataFrame.\n",
      "Try using .loc[row_indexer,col_indexer] = value instead\n",
      "\n",
      "See the caveats in the documentation: https://pandas.pydata.org/pandas-docs/stable/user_guide/indexing.html#returning-a-view-versus-a-copy\n",
      "  cat['model1TP'] = cat.model1 == cat.actual\n",
      "<ipython-input-43-ed89f690daaf>:3: SettingWithCopyWarning: \n",
      "A value is trying to be set on a copy of a slice from a DataFrame.\n",
      "Try using .loc[row_indexer,col_indexer] = value instead\n",
      "\n",
      "See the caveats in the documentation: https://pandas.pydata.org/pandas-docs/stable/user_guide/indexing.html#returning-a-view-versus-a-copy\n",
      "  cat['model2TP'] = cat.model2 == cat.actual\n",
      "<ipython-input-43-ed89f690daaf>:4: SettingWithCopyWarning: \n",
      "A value is trying to be set on a copy of a slice from a DataFrame.\n",
      "Try using .loc[row_indexer,col_indexer] = value instead\n",
      "\n",
      "See the caveats in the documentation: https://pandas.pydata.org/pandas-docs/stable/user_guide/indexing.html#returning-a-view-versus-a-copy\n",
      "  cat['model3TP'] = cat.model3 == cat.actual\n",
      "<ipython-input-43-ed89f690daaf>:5: SettingWithCopyWarning: \n",
      "A value is trying to be set on a copy of a slice from a DataFrame.\n",
      "Try using .loc[row_indexer,col_indexer] = value instead\n",
      "\n",
      "See the caveats in the documentation: https://pandas.pydata.org/pandas-docs/stable/user_guide/indexing.html#returning-a-view-versus-a-copy\n",
      "  cat['model4TP'] = cat.model4 == cat.actual\n",
      "<ipython-input-43-ed89f690daaf>:7: SettingWithCopyWarning: \n",
      "A value is trying to be set on a copy of a slice from a DataFrame.\n",
      "Try using .loc[row_indexer,col_indexer] = value instead\n",
      "\n",
      "See the caveats in the documentation: https://pandas.pydata.org/pandas-docs/stable/user_guide/indexing.html#returning-a-view-versus-a-copy\n",
      "  cat['model1FN'] = (cat.model1 == 'dog') & (cat.actual == 'cat')\n",
      "<ipython-input-43-ed89f690daaf>:8: SettingWithCopyWarning: \n",
      "A value is trying to be set on a copy of a slice from a DataFrame.\n",
      "Try using .loc[row_indexer,col_indexer] = value instead\n",
      "\n",
      "See the caveats in the documentation: https://pandas.pydata.org/pandas-docs/stable/user_guide/indexing.html#returning-a-view-versus-a-copy\n",
      "  cat['model2FN'] = (cat.model2 == 'dog') & (cat.actual == 'cat')\n",
      "<ipython-input-43-ed89f690daaf>:9: SettingWithCopyWarning: \n",
      "A value is trying to be set on a copy of a slice from a DataFrame.\n",
      "Try using .loc[row_indexer,col_indexer] = value instead\n",
      "\n",
      "See the caveats in the documentation: https://pandas.pydata.org/pandas-docs/stable/user_guide/indexing.html#returning-a-view-versus-a-copy\n",
      "  cat['model3FN'] = (cat.model3 == 'dog') & (cat.actual == 'cat')\n",
      "<ipython-input-43-ed89f690daaf>:10: SettingWithCopyWarning: \n",
      "A value is trying to be set on a copy of a slice from a DataFrame.\n",
      "Try using .loc[row_indexer,col_indexer] = value instead\n",
      "\n",
      "See the caveats in the documentation: https://pandas.pydata.org/pandas-docs/stable/user_guide/indexing.html#returning-a-view-versus-a-copy\n",
      "  cat['model4FN'] = (cat.model4 == 'dog') & (cat.actual == 'cat')\n"
     ]
    },
    {
     "data": {
      "text/plain": [
       "{'model1': 0.8150057273768614,\n",
       " 'model2': 0.8906071019473081,\n",
       " 'model3': 0.5114547537227949,\n",
       " 'model4': 0.34536082474226804}"
      ]
     },
     "execution_count": 43,
     "metadata": {},
     "output_type": "execute_result"
    }
   ],
   "source": [
    "# Recall = TP/TP + FN\n",
    "cat['model1TP'] = cat.model1 == cat.actual\n",
    "cat['model2TP'] = cat.model2 == cat.actual\n",
    "cat['model3TP'] = cat.model3 == cat.actual\n",
    "cat['model4TP'] = cat.model4 == cat.actual\n",
    "\n",
    "cat['model1FN'] = (cat.model1 == 'dog') & (cat.actual == 'cat')\n",
    "cat['model2FN'] = (cat.model2 == 'dog') & (cat.actual == 'cat')\n",
    "cat['model3FN'] = (cat.model3 == 'dog') & (cat.actual == 'cat')\n",
    "cat['model4FN'] = (cat.model4 == 'dog') & (cat.actual == 'cat')\n",
    "\n",
    "cat_recall = {\"model1\": cat['model1TP'].sum()/(cat['model1FN'].sum() + cat['model1TP'].sum()),\n",
    "              \"model2\": cat['model2TP'].sum()/(cat['model2FN'].sum() + cat['model2TP'].sum()),\n",
    "              \"model3\": cat['model3TP'].sum()/(cat['model3FN'].sum() + cat['model3TP'].sum()),\n",
    "              \"model4\": cat['model4TP'].sum()/(cat['model4FN'].sum() + cat['model4TP'].sum())\n",
    "             }\n",
    "cat_recall"
   ]
  },
  {
   "cell_type": "markdown",
   "metadata": {},
   "source": [
    "* Follow the links below to read the documentation about each function, then apply those functions to the data from the previous problem."
   ]
  },
  {
   "cell_type": "code",
   "execution_count": 63,
   "metadata": {},
   "outputs": [
    {
     "name": "stdout",
     "output_type": "stream",
     "text": [
      " Highest Accuracy - model1 with a score of 0.8074\n"
     ]
    }
   ],
   "source": [
    "paws_accuracy = {\n",
    "'model1': sklearn.metrics.accuracy_score(paws['actual'], paws['model1']),\n",
    "'model2' : sklearn.metrics.accuracy_score(paws['actual'], paws['model2']),\n",
    "'model3' : sklearn.metrics.accuracy_score(paws['actual'], paws['model3']),\n",
    "'model4': sklearn.metrics.accuracy_score(paws['actual'], paws['model4'])\n",
    "}\n",
    "\n",
    "print(f\" Highest Accuracy - {max(paws_accuracy, key=paws_accuracy.get)} with a score of {max(paws_accuracy.values())}\")"
   ]
  },
  {
   "cell_type": "code",
   "execution_count": 67,
   "metadata": {},
   "outputs": [
    {
     "name": "stdout",
     "output_type": "stream",
     "text": [
      " Highest Percision - model1 with a score of 0.7898980051430666\n"
     ]
    }
   ],
   "source": [
    "paws_percision = {\n",
    "'model1': sklearn.metrics.precision_score(paws['actual'], paws['model1'],average='macro'),\n",
    "'model2' : sklearn.metrics.precision_score(paws['actual'], paws['model2'], average='macro'),\n",
    "'model3' : sklearn.metrics.precision_score(paws['actual'], paws['model3'], average='macro'),\n",
    "'model4': sklearn.metrics.precision_score(paws['actual'], paws['model4'], average='macro')\n",
    "}\n",
    "\n",
    "print(f\" Highest Percision - {max(paws_percision, key=paws_percision.get)} with a score of {max(paws_percision.values())}\")"
   ]
  },
  {
   "cell_type": "code",
   "execution_count": 79,
   "metadata": {},
   "outputs": [
    {
     "name": "stdout",
     "output_type": "stream",
     "text": [
      " Highest Recall - model4 with a score of 0.9557467732022127\n"
     ]
    }
   ],
   "source": [
    "dog_reacll = {\n",
    "'model1': sklearn.metrics.recall_score(dog['actual'], dog['model1'], average='micro'),\n",
    "'model2' : sklearn.metrics.recall_score(dog['actual'], dog['model2'], average='micro'),\n",
    "'model3' : sklearn.metrics.recall_score(dog['actual'], dog['model3'], average='micro'),\n",
    "'model4': sklearn.metrics.recall_score(dog['actual'], dog['model4'], average='micro')\n",
    "}\n",
    "\n",
    "print(f\" Highest Recall - {max(dog_reacll, key=dog_reacll.get)} with a score of {max(dog_reacll.values())}\")"
   ]
  },
  {
   "cell_type": "code",
   "execution_count": 77,
   "metadata": {},
   "outputs": [
    {
     "name": "stdout",
     "output_type": "stream",
     "text": [
      " Highest Recall - model1 with a score of 0.8091623596933477\n"
     ]
    }
   ],
   "source": [
    "paws_reacll = {\n",
    "'model1': sklearn.metrics.recall_score(paws['actual'], paws['model1'],average='macro'),\n",
    "'model2' : sklearn.metrics.recall_score(paws['actual'], paws['model2'], average='macro'),\n",
    "'model3' : sklearn.metrics.recall_score(paws['actual'], paws['model3'], average='macro'),\n",
    "'model4': sklearn.metrics.recall_score(paws['actual'], paws['model4'], average='macro')\n",
    "}\n",
    "\n",
    "print(f\" Highest Recall - {max(paws_reacll, key=paws_reacll.get)} with a score of {max(paws_reacll.values())}\")"
   ]
  },
  {
   "cell_type": "code",
   "execution_count": 76,
   "metadata": {},
   "outputs": [
    {
     "data": {
      "text/plain": [
       "'              precision    recall  f1-score   support\\n\\n         cat       0.69      0.82      0.75      1746\\n         dog       0.89      0.80      0.84      3254\\n\\n    accuracy                           0.81      5000\\n   macro avg       0.79      0.81      0.80      5000\\nweighted avg       0.82      0.81      0.81      5000\\n'"
      ]
     },
     "execution_count": 76,
     "metadata": {},
     "output_type": "execute_result"
    }
   ],
   "source": [
    "sklearn.metrics.classification_report(paws['actual'], paws['model1'])\n"
   ]
  },
  {
   "cell_type": "code",
   "execution_count": null,
   "metadata": {},
   "outputs": [],
   "source": []
  }
 ],
 "metadata": {
  "kernelspec": {
   "display_name": "Python 3",
   "language": "python",
   "name": "python3"
  },
  "language_info": {
   "codemirror_mode": {
    "name": "ipython",
    "version": 3
   },
   "file_extension": ".py",
   "mimetype": "text/x-python",
   "name": "python",
   "nbconvert_exporter": "python",
   "pygments_lexer": "ipython3",
   "version": "3.8.3"
  }
 },
 "nbformat": 4,
 "nbformat_minor": 4
}

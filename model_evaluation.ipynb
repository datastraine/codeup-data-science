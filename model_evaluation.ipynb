{
 "cells": [
  {
   "cell_type": "code",
   "execution_count": 69,
   "metadata": {
    "scrolled": true
   },
   "outputs": [
    {
     "name": "stdout",
     "output_type": "stream",
     "text": [
      "Success\n"
     ]
    }
   ],
   "source": [
    "import numpy as np\n",
    "import pandas as pd\n",
    "import seaborn as sns\n",
    "import matplotlib as plt\n",
    "from pydataset import data\n",
    "import pandas as pd\n",
    "import numpy as np\n",
    "import acquire\n",
    "from sklearn.metrics import classification_report\n",
    "from sklearn.metrics import confusion_matrix\n",
    "from sklearn.metrics import recall_score\n",
    "from sklearn.metrics import accuracy_score\n",
    "from sklearn.metrics import precision_score\n",
    "print('Success')"
   ]
  },
  {
   "cell_type": "markdown",
   "metadata": {},
   "source": [
    "## Evaluate (by hand) the model's performance.\n",
    "\n",
    "\n",
    "|               | actual cat | actual dog |\n",
    "|:------------  |-----------:|-----------:|\n",
    "| predicted cat |         34 |          7 |\n",
    "| predicted dog |         13 |         46 |"
   ]
  },
  {
   "cell_type": "markdown",
   "metadata": {},
   "source": [
    "* In the context of this problem, what is a false positive?\n",
    "  - Answer: Assuming we are evaluating whether an animal is a dog or not, a false positive would be classifiying an animal as a dog when it was not a dog (either a cat or some other animal)\n",
    "* In the context of this problem, what is a false negative?\n",
    "  - Answer: Assuming we are evaluating whether an animal is a dog or not, a false negative would be classifiying an animal as not a dog (or a cat) when it really was a dog\n",
    "* How would you describe this model?\n",
    "  - Answer: "
   ]
  },
  {
   "cell_type": "markdown",
   "metadata": {},
   "source": [
    "## C3 \n",
    "Unfortunately, some of the rubber ducks that are produced will have defects. Your team has built several models that try to predict those defects, and the data from their predictions can be found here (C3.csv)."
   ]
  },
  {
   "cell_type": "code",
   "execution_count": 70,
   "metadata": {
    "scrolled": true
   },
   "outputs": [
    {
     "data": {
      "text/html": [
       "<div>\n",
       "<style scoped>\n",
       "    .dataframe tbody tr th:only-of-type {\n",
       "        vertical-align: middle;\n",
       "    }\n",
       "\n",
       "    .dataframe tbody tr th {\n",
       "        vertical-align: top;\n",
       "    }\n",
       "\n",
       "    .dataframe thead th {\n",
       "        text-align: right;\n",
       "    }\n",
       "</style>\n",
       "<table border=\"1\" class=\"dataframe\">\n",
       "  <thead>\n",
       "    <tr style=\"text-align: right;\">\n",
       "      <th></th>\n",
       "      <th>actual</th>\n",
       "      <th>model1</th>\n",
       "      <th>model2</th>\n",
       "      <th>model3</th>\n",
       "    </tr>\n",
       "  </thead>\n",
       "  <tbody>\n",
       "    <tr>\n",
       "      <th>0</th>\n",
       "      <td>No Defect</td>\n",
       "      <td>No Defect</td>\n",
       "      <td>Defect</td>\n",
       "      <td>No Defect</td>\n",
       "    </tr>\n",
       "    <tr>\n",
       "      <th>1</th>\n",
       "      <td>No Defect</td>\n",
       "      <td>No Defect</td>\n",
       "      <td>Defect</td>\n",
       "      <td>Defect</td>\n",
       "    </tr>\n",
       "    <tr>\n",
       "      <th>2</th>\n",
       "      <td>No Defect</td>\n",
       "      <td>No Defect</td>\n",
       "      <td>Defect</td>\n",
       "      <td>No Defect</td>\n",
       "    </tr>\n",
       "    <tr>\n",
       "      <th>3</th>\n",
       "      <td>No Defect</td>\n",
       "      <td>Defect</td>\n",
       "      <td>Defect</td>\n",
       "      <td>Defect</td>\n",
       "    </tr>\n",
       "    <tr>\n",
       "      <th>4</th>\n",
       "      <td>No Defect</td>\n",
       "      <td>No Defect</td>\n",
       "      <td>Defect</td>\n",
       "      <td>No Defect</td>\n",
       "    </tr>\n",
       "  </tbody>\n",
       "</table>\n",
       "</div>"
      ],
      "text/plain": [
       "      actual     model1  model2     model3\n",
       "0  No Defect  No Defect  Defect  No Defect\n",
       "1  No Defect  No Defect  Defect     Defect\n",
       "2  No Defect  No Defect  Defect  No Defect\n",
       "3  No Defect     Defect  Defect     Defect\n",
       "4  No Defect  No Defect  Defect  No Defect"
      ]
     },
     "execution_count": 70,
     "metadata": {},
     "output_type": "execute_result"
    }
   ],
   "source": [
    "c3 = pd.read_csv('c3.csv')\n",
    "c3.head()"
   ]
  },
  {
   "cell_type": "markdown",
   "metadata": {},
   "source": [
    "* An internal team wants to investigate the cause of the manufacturing defects. They tell you that they want to identify as many of the ducks that have a defect as possible. Which evaluation metric would be appropriate here? Which model would be the best fit for this use case?"
   ]
  },
  {
   "cell_type": "code",
   "execution_count": 71,
   "metadata": {
    "scrolled": true
   },
   "outputs": [
    {
     "name": "stdout",
     "output_type": "stream",
     "text": [
      "{'model_1': 0.5, 'model_2': 0.5625, 'model_3': 0.8125}\n"
     ]
    },
    {
     "data": {
      "text/plain": [
       "'model_3'"
      ]
     },
     "execution_count": 71,
     "metadata": {},
     "output_type": "execute_result"
    }
   ],
   "source": [
    "# Recall is the best evaluation metric for this task \n",
    "\n",
    "# Subsect the data to only pull the results where there was an actual defect\n",
    "c3defect = c3[c3.actual == 'Defect']\n",
    "\n",
    "# Recall = TP / (TP + FN)\n",
    "\n",
    "# Create a dictionary of the models' accuracy where the actual value is equal to the predicated value and find which model \n",
    "# has the heightest recall\n",
    "models = {'model_1': (c3defect.model1 == c3defect.actual).mean(),\n",
    "'model_2' : (c3defect.model2 == c3defect.actual).mean(),\n",
    "'model_3' : (c3defect.model3 == c3defect.actual).mean()\n",
    "}\n",
    "\n",
    "print(models)\n",
    "max(models, key=models.get)"
   ]
  },
  {
   "cell_type": "markdown",
   "metadata": {},
   "source": [
    "### The most accurate model "
   ]
  },
  {
   "cell_type": "code",
   "execution_count": 72,
   "metadata": {},
   "outputs": [
    {
     "name": "stdout",
     "output_type": "stream",
     "text": [
      "{'model_1': 0.95, 'model_2': 0.56, 'model_3': 0.555}\n"
     ]
    },
    {
     "data": {
      "text/plain": [
       "'model_1'"
      ]
     },
     "execution_count": 72,
     "metadata": {},
     "output_type": "execute_result"
    }
   ],
   "source": [
    "accuracy = {'model_1': (c3.model1 == c3.actual).mean(),\n",
    "'model_2' : (c3.model2 == c3.actual).mean(),\n",
    "'model_3' : (c3.model3 == c3.actual).mean()\n",
    "}\n",
    "\n",
    "print(accuracy)\n",
    "max(accuracy, key=accuracy.get)"
   ]
  },
  {
   "cell_type": "markdown",
   "metadata": {},
   "source": [
    "* Recently several stories in the local news have come out highlighting customers who received a rubber duck with a defect, and portraying C3 in a bad light. The PR team has decided to launch a program that gives customers with a defective duck a vacation to Hawaii. They need you to predict which ducks will have defects, but tell you the really don't want to accidentally give out a vacation package when the duck really doesn't have a defect. Which evaluation metric would be appropriate here? Which model would be the best fit for this use case?"
   ]
  },
  {
   "cell_type": "code",
   "execution_count": 73,
   "metadata": {},
   "outputs": [
    {
     "name": "stdout",
     "output_type": "stream",
     "text": [
      "{'model_1': 80.0, 'model_2': 81.81818181818183, 'model_3': 86.66666666666667}\n"
     ]
    },
    {
     "data": {
      "text/plain": [
       "'model_3'"
      ]
     },
     "execution_count": 73,
     "metadata": {},
     "output_type": "execute_result"
    }
   ],
   "source": [
    "# This is wrong need to adjust it to subset = model1-3 == defect .mean()\n",
    "\n",
    "c3['model1_TP'] = (c3['actual'] == 'Defect') & (c3['model1'] == 'Defect')\n",
    "c3['model2_TP'] = (c3['actual'] == 'Defect') & (c3['model2'] == 'Defect')\n",
    "c3['model3_TP'] = (c3['actual'] == 'Defect') & (c3['model3'] == 'Defect')\n",
    "\n",
    "c3['model1_FP'] = (c3['actual'] == 'No Defect') & (c3['model1'] == 'Defect')\n",
    "c3['model2_FP'] = (c3['actual'] == 'No Defect') & (c3['model1'] == 'Defect')\n",
    "c3['model3_FP'] = (c3['actual'] == 'No Defect') & (c3['model1'] == 'Defect')\n",
    "\n",
    "percision = {'model_1' : c3['model1_TP'].sum()/(c3['model1_FP'].sum() + c3['model1_TP'].sum()) * 100,\n",
    "'model_2' : c3['model2_TP'].sum()/(c3['model2_FP'].sum() + c3['model2_TP'].sum()) * 100,\n",
    "'model_3' :c3['model3_TP'].sum()/(c3['model3_FP'].sum() + c3['model3_TP'].sum()) * 100}\n",
    "print(percision)\n",
    "max(percision, key=percision.get)"
   ]
  },
  {
   "cell_type": "markdown",
   "metadata": {},
   "source": [
    "## Gives You Paws ™\n",
    "\n",
    "At Gives You Paws, anyone can upload pictures of their cats or dogs. The photos are then put through a two step process. First an automated algorithm tags pictures as either a cat or a dog (Phase I). Next, the photos that have been initially identified are put through another round of review, possibly with some human oversight, before being presented to the users (Phase II).\n",
    "\n",
    "Several models have already been developed with the data, and you can find their results here (gives_you_paws.csv).\n",
    "\n",
    "Given this dataset, use pandas to create a baseline model (i.e. a model that just predicts the most common class) and answer the following questions:"
   ]
  },
  {
   "cell_type": "code",
   "execution_count": 74,
   "metadata": {},
   "outputs": [
    {
     "data": {
      "text/html": [
       "<div>\n",
       "<style scoped>\n",
       "    .dataframe tbody tr th:only-of-type {\n",
       "        vertical-align: middle;\n",
       "    }\n",
       "\n",
       "    .dataframe tbody tr th {\n",
       "        vertical-align: top;\n",
       "    }\n",
       "\n",
       "    .dataframe thead th {\n",
       "        text-align: right;\n",
       "    }\n",
       "</style>\n",
       "<table border=\"1\" class=\"dataframe\">\n",
       "  <thead>\n",
       "    <tr style=\"text-align: right;\">\n",
       "      <th></th>\n",
       "      <th>actual</th>\n",
       "      <th>model1</th>\n",
       "      <th>model2</th>\n",
       "      <th>model3</th>\n",
       "      <th>model4</th>\n",
       "    </tr>\n",
       "  </thead>\n",
       "  <tbody>\n",
       "    <tr>\n",
       "      <th>0</th>\n",
       "      <td>cat</td>\n",
       "      <td>cat</td>\n",
       "      <td>dog</td>\n",
       "      <td>cat</td>\n",
       "      <td>dog</td>\n",
       "    </tr>\n",
       "    <tr>\n",
       "      <th>1</th>\n",
       "      <td>dog</td>\n",
       "      <td>dog</td>\n",
       "      <td>cat</td>\n",
       "      <td>cat</td>\n",
       "      <td>dog</td>\n",
       "    </tr>\n",
       "    <tr>\n",
       "      <th>2</th>\n",
       "      <td>dog</td>\n",
       "      <td>cat</td>\n",
       "      <td>cat</td>\n",
       "      <td>cat</td>\n",
       "      <td>dog</td>\n",
       "    </tr>\n",
       "    <tr>\n",
       "      <th>3</th>\n",
       "      <td>dog</td>\n",
       "      <td>dog</td>\n",
       "      <td>dog</td>\n",
       "      <td>cat</td>\n",
       "      <td>dog</td>\n",
       "    </tr>\n",
       "    <tr>\n",
       "      <th>4</th>\n",
       "      <td>cat</td>\n",
       "      <td>cat</td>\n",
       "      <td>cat</td>\n",
       "      <td>dog</td>\n",
       "      <td>dog</td>\n",
       "    </tr>\n",
       "  </tbody>\n",
       "</table>\n",
       "</div>"
      ],
      "text/plain": [
       "  actual model1 model2 model3 model4\n",
       "0    cat    cat    dog    cat    dog\n",
       "1    dog    dog    cat    cat    dog\n",
       "2    dog    cat    cat    cat    dog\n",
       "3    dog    dog    dog    cat    dog\n",
       "4    cat    cat    cat    dog    dog"
      ]
     },
     "execution_count": 74,
     "metadata": {},
     "output_type": "execute_result"
    }
   ],
   "source": [
    "paws = pd.read_csv('gives_you_paws.csv')\n",
    "paws.head()"
   ]
  },
  {
   "cell_type": "code",
   "execution_count": 75,
   "metadata": {},
   "outputs": [],
   "source": [
    "paws['base_line'] = 'dog'"
   ]
  },
  {
   "cell_type": "markdown",
   "metadata": {},
   "source": [
    "* In terms of accuracy, how do the various models compare to the baseline model? Are any of the models better than the baseline?"
   ]
  },
  {
   "cell_type": "code",
   "execution_count": 76,
   "metadata": {},
   "outputs": [
    {
     "name": "stdout",
     "output_type": "stream",
     "text": [
      "{'model_1': 0.8074, 'model_2': 0.6304, 'model_3': 0.5096, 'model_4': 0.7426, 'base_line': 0.6508}\n",
      "\n",
      "The model with the heightest accuracy - model_1\n"
     ]
    }
   ],
   "source": [
    "accuracy = {'model_1': (paws.model1 == paws.actual).mean(),\n",
    "'model_2' : (paws.model2 == paws.actual).mean(),\n",
    "'model_3' : (paws.model3 == paws.actual).mean(),\n",
    "'model_4' : (paws.model4 == paws.actual).mean(),\n",
    "'base_line' : (paws.base_line == paws.actual).mean(),\n",
    "}\n",
    "print(accuracy)\n",
    "print()\n",
    "print(f\"The model with the heightest accuracy - {max(accuracy, key=accuracy.get)}\")\n"
   ]
  },
  {
   "cell_type": "markdown",
   "metadata": {},
   "source": [
    "* Suppose you are working on a team that solely deals with dog pictures. Which of these models would you recomend for Phase I? "
   ]
  },
  {
   "cell_type": "code",
   "execution_count": 77,
   "metadata": {},
   "outputs": [
    {
     "name": "stdout",
     "output_type": "stream",
     "text": [
      "{'model_1': 0.803318992009834, 'model_2': 0.49078057775046097, 'model_3': 0.5086047940995697, 'model_4': 0.9557467732022127}\n",
      "\n",
      "Accuraccy is the best measure for Phase 1 and the model with the heightest accuracy is model_4\n"
     ]
    }
   ],
   "source": [
    "dog = paws[paws['actual'] == 'dog']\n",
    "\n",
    "dog_accuracy = {'model_1': (dog.model1 == dog.actual).mean(),\n",
    "'model_2' : (dog.model2 == dog.actual).mean(),\n",
    "'model_3' : (dog.model3 == dog.actual).mean(),\n",
    "'model_4' : (dog.model4 == dog.actual).mean(),\n",
    "}\n",
    "print(dog_accuracy)\n",
    "print()\n",
    "print(f\"Accuraccy is the best measure for Phase 1 and the model with the heightest accuracy is {max(dog_accuracy, key=dog_accuracy.get)}\")\n",
    "\n"
   ]
  },
  {
   "cell_type": "markdown",
   "metadata": {},
   "source": [
    "* For Phase II?"
   ]
  },
  {
   "cell_type": "code",
   "execution_count": 78,
   "metadata": {},
   "outputs": [
    {
     "data": {
      "text/plain": [
       "{'model1': 0.803318992009834,\n",
       " 'model2': 0.49078057775046097,\n",
       " 'model3': 0.5086047940995697,\n",
       " 'model4': 0.9557467732022127}"
      ]
     },
     "execution_count": 78,
     "metadata": {},
     "output_type": "execute_result"
    }
   ],
   "source": [
    "# Recall = TP/TP + FN\n",
    "dog['model1TP'] = dog.model1 == dog.actual\n",
    "dog['model2TP'] = dog.model2 == dog.actual\n",
    "dog['model3TP'] = dog.model3 == dog.actual\n",
    "dog['model4TP'] = dog.model4 == dog.actual\n",
    "\n",
    "dog['model1FN'] = (dog.model1 == 'cat') & (dog.actual == 'dog')\n",
    "dog['model2FN'] = (dog.model2 == 'cat') & (dog.actual == 'dog')\n",
    "dog['model3FN'] = (dog.model3 == 'cat') & (dog.actual == 'dog')\n",
    "dog['model4FN'] = (dog.model4 == 'cat') & (dog.actual == 'dog')\n",
    "\n",
    "dog_recall = {\"model1\": dog['model1TP'].sum()/(dog['model1FN'].sum() + dog['model1TP'].sum()),\n",
    "              \"model2\": dog['model2TP'].sum()/(dog['model2FN'].sum() + dog['model2TP'].sum()),\n",
    "              \"model3\": dog['model3TP'].sum()/(dog['model3FN'].sum() + dog['model3TP'].sum()),\n",
    "              \"model4\": dog['model4TP'].sum()/(dog['model4FN'].sum() + dog['model4TP'].sum())\n",
    "             }\n",
    "dog_recall"
   ]
  },
  {
   "cell_type": "markdown",
   "metadata": {},
   "source": [
    "* Suppose you are working on a team that solely deals with cat pictures. Which of these models would you recomend for Phase I? "
   ]
  },
  {
   "cell_type": "code",
   "execution_count": 79,
   "metadata": {},
   "outputs": [
    {
     "name": "stdout",
     "output_type": "stream",
     "text": [
      "{'model_1': 0.8150057273768614, 'model_2': 0.8906071019473081, 'model_3': 0.5114547537227949, 'model_4': 0.34536082474226804}\n",
      "\n",
      "Accuraccy is the best measure for Phase 1 and the model with the heightest accuracy is model_2\n"
     ]
    }
   ],
   "source": [
    "cat = paws[paws['actual'] == 'cat']\n",
    "\n",
    "cat_accuracy = {'model_1': (cat.model1 == cat.actual).mean(),\n",
    "'model_2' : (cat.model2 == cat.actual).mean(),\n",
    "'model_3' : (cat.model3 == cat.actual).mean(),\n",
    "'model_4' : (cat.model4 == cat.actual).mean(),\n",
    "}\n",
    "print(cat_accuracy)\n",
    "print()\n",
    "print(f\"Accuraccy is the best measure for Phase 1 and the model with the heightest accuracy is {max(cat_accuracy, key=cat_accuracy.get)}\")\n",
    "\n"
   ]
  },
  {
   "cell_type": "markdown",
   "metadata": {},
   "source": [
    "* For Phase II?"
   ]
  },
  {
   "cell_type": "code",
   "execution_count": 80,
   "metadata": {},
   "outputs": [
    {
     "data": {
      "text/plain": [
       "{'model1': 0.8150057273768614,\n",
       " 'model2': 0.8906071019473081,\n",
       " 'model3': 0.5114547537227949,\n",
       " 'model4': 0.34536082474226804}"
      ]
     },
     "execution_count": 80,
     "metadata": {},
     "output_type": "execute_result"
    }
   ],
   "source": [
    "# Recall = TP/TP + FN\n",
    "cat['model1TP'] = cat.model1 == cat.actual\n",
    "cat['model2TP'] = cat.model2 == cat.actual\n",
    "cat['model3TP'] = cat.model3 == cat.actual\n",
    "cat['model4TP'] = cat.model4 == cat.actual\n",
    "\n",
    "cat['model1FN'] = (cat.model1 == 'dog') & (cat.actual == 'cat')\n",
    "cat['model2FN'] = (cat.model2 == 'dog') & (cat.actual == 'cat')\n",
    "cat['model3FN'] = (cat.model3 == 'dog') & (cat.actual == 'cat')\n",
    "cat['model4FN'] = (cat.model4 == 'dog') & (cat.actual == 'cat')\n",
    "\n",
    "cat_recall = {\"model1\": cat['model1TP'].sum()/(cat['model1FN'].sum() + cat['model1TP'].sum()),\n",
    "              \"model2\": cat['model2TP'].sum()/(cat['model2FN'].sum() + cat['model2TP'].sum()),\n",
    "              \"model3\": cat['model3TP'].sum()/(cat['model3FN'].sum() + cat['model3TP'].sum()),\n",
    "              \"model4\": cat['model4TP'].sum()/(cat['model4FN'].sum() + cat['model4TP'].sum())\n",
    "             }\n",
    "cat_recall"
   ]
  },
  {
   "cell_type": "markdown",
   "metadata": {},
   "source": [
    "* Follow the links below to read the documentation about each function, then apply those functions to the data from the previous problem."
   ]
  },
  {
   "cell_type": "code",
   "execution_count": 81,
   "metadata": {},
   "outputs": [
    {
     "name": "stdout",
     "output_type": "stream",
     "text": [
      " Highest Accuracy - model1 with a score of 0.8074\n"
     ]
    }
   ],
   "source": [
    "paws_accuracy = {\n",
    "'model1': accuracy_score(paws['actual'], paws['model1']),\n",
    "'model2' : accuracy_score(paws['actual'], paws['model2']),\n",
    "'model3' : accuracy_score(paws['actual'], paws['model3']),\n",
    "'model4': accuracy_score(paws['actual'], paws['model4'])\n",
    "}\n",
    "\n",
    "print(f\" Highest Accuracy - {max(paws_accuracy, key=paws_accuracy.get)} with a score of {max(paws_accuracy.values())}\")"
   ]
  },
  {
   "cell_type": "code",
   "execution_count": 82,
   "metadata": {},
   "outputs": [
    {
     "name": "stdout",
     "output_type": "stream",
     "text": [
      "{'model1': 0.7898980051430666, 'model2': 0.6886493880609905, 'model3': 0.5091175333635416, 'model4': 0.7692387230558727}\n",
      " Highest Percision - model1 with a score of 0.7898980051430666\n"
     ]
    }
   ],
   "source": [
    "paws_percision = {\n",
    "'model1': precision_score(paws['actual'], paws['model1'],average='macro'),\n",
    "'model2' : precision_score(paws['actual'], paws['model2'], average='macro'),\n",
    "'model3' : precision_score(paws['actual'], paws['model3'], average='macro'),\n",
    "'model4': precision_score(paws['actual'], paws['model4'], average='macro')\n",
    "}\n",
    "\n",
    "print(paws_percision)\n",
    "print(f\" Highest Percision - {max(paws_percision, key=paws_percision.get)} with a score of {max(paws_percision.values())}\")"
   ]
  },
  {
   "cell_type": "code",
   "execution_count": 83,
   "metadata": {},
   "outputs": [
    {
     "name": "stdout",
     "output_type": "stream",
     "text": [
      " Highest Recall - model4 with a score of 0.9557467732022127\n"
     ]
    }
   ],
   "source": [
    "\n",
    "\n",
    "dog_reacll = {\n",
    "'model1': recall_score(dog['actual'], dog['model1'], average='micro'),\n",
    "'model2' : recall_score(dog['actual'], dog['model2'], average='micro'),\n",
    "'model3' : recall_score(dog['actual'], dog['model3'], average='micro'),\n",
    "'model4': recall_score(dog['actual'], dog['model4'], average='micro')\n",
    "}\n",
    "\n",
    "print(f\" Highest Recall - {max(dog_reacll, key=dog_reacll.get)} with a score of {max(dog_reacll.values())}\")"
   ]
  },
  {
   "cell_type": "code",
   "execution_count": 84,
   "metadata": {},
   "outputs": [
    {
     "name": "stdout",
     "output_type": "stream",
     "text": [
      " Highest Recall - model1 with a score of 0.8091623596933477\n"
     ]
    }
   ],
   "source": [
    "paws_reacll = {\n",
    "'model1': recall_score(paws['actual'], paws['model1'],average='macro'),\n",
    "'model2' : recall_score(paws['actual'], paws['model2'], average='macro'),\n",
    "'model3' : recall_score(paws['actual'], paws['model3'], average='macro'),\n",
    "'model4': recall_score(paws['actual'], paws['model4'], average='macro')\n",
    "}\n",
    "\n",
    "print(f\" Highest Recall - {max(paws_reacll, key=paws_reacll.get)} with a score of {max(paws_reacll.values())}\")"
   ]
  },
  {
   "cell_type": "code",
   "execution_count": 85,
   "metadata": {},
   "outputs": [
    {
     "name": "stdout",
     "output_type": "stream",
     "text": [
      "              precision    recall  f1-score   support\n",
      "\n",
      "         cat       0.69      0.82      0.75      1746\n",
      "         dog       0.89      0.80      0.84      3254\n",
      "\n",
      "    accuracy                           0.81      5000\n",
      "   macro avg       0.79      0.81      0.80      5000\n",
      "weighted avg       0.82      0.81      0.81      5000\n",
      "\n"
     ]
    }
   ],
   "source": [
    "print(classification_report(paws['actual'], paws['model1']))\n"
   ]
  },
  {
   "cell_type": "markdown",
   "metadata": {},
   "source": [
    "## Logistic Regression\n",
    "In this exercise, we'll continue working with the titanic dataset and building logistic regression models. Throughout this exercise, be sure you are training, evaluation, and comparing models on the train and validate datasets. The test dataset should only be used for your final model.\n",
    "\n",
    "For all of the models you create, choose a threshold that optimizes for accuracy."
   ]
  },
  {
   "cell_type": "code",
   "execution_count": 86,
   "metadata": {},
   "outputs": [
    {
     "data": {
      "text/html": [
       "<div>\n",
       "<style scoped>\n",
       "    .dataframe tbody tr th:only-of-type {\n",
       "        vertical-align: middle;\n",
       "    }\n",
       "\n",
       "    .dataframe tbody tr th {\n",
       "        vertical-align: top;\n",
       "    }\n",
       "\n",
       "    .dataframe thead th {\n",
       "        text-align: right;\n",
       "    }\n",
       "</style>\n",
       "<table border=\"1\" class=\"dataframe\">\n",
       "  <thead>\n",
       "    <tr style=\"text-align: right;\">\n",
       "      <th></th>\n",
       "      <th>passenger_id</th>\n",
       "      <th>survived</th>\n",
       "      <th>pclass</th>\n",
       "      <th>sex</th>\n",
       "      <th>age</th>\n",
       "      <th>sibsp</th>\n",
       "      <th>parch</th>\n",
       "      <th>fare</th>\n",
       "      <th>embarked</th>\n",
       "      <th>class</th>\n",
       "      <th>deck</th>\n",
       "      <th>embark_town</th>\n",
       "      <th>alone</th>\n",
       "      <th>C</th>\n",
       "      <th>Q</th>\n",
       "      <th>S</th>\n",
       "      <th>impute_age</th>\n",
       "      <th>child</th>\n",
       "    </tr>\n",
       "  </thead>\n",
       "  <tbody>\n",
       "    <tr>\n",
       "      <th>1</th>\n",
       "      <td>1</td>\n",
       "      <td>1</td>\n",
       "      <td>1</td>\n",
       "      <td>female</td>\n",
       "      <td>38.0</td>\n",
       "      <td>1</td>\n",
       "      <td>0</td>\n",
       "      <td>71.2833</td>\n",
       "      <td>C</td>\n",
       "      <td>First</td>\n",
       "      <td>C</td>\n",
       "      <td>Cherbourg</td>\n",
       "      <td>0</td>\n",
       "      <td>1</td>\n",
       "      <td>0</td>\n",
       "      <td>0</td>\n",
       "      <td>38.0</td>\n",
       "      <td>False</td>\n",
       "    </tr>\n",
       "  </tbody>\n",
       "</table>\n",
       "</div>"
      ],
      "text/plain": [
       "   passenger_id  survived  pclass     sex   age  sibsp  parch     fare  \\\n",
       "1             1         1       1  female  38.0      1      0  71.2833   \n",
       "\n",
       "  embarked  class deck embark_town  alone  C  Q  S  impute_age  child  \n",
       "1        C  First    C   Cherbourg      0  1  0  0        38.0  False  "
      ]
     },
     "execution_count": 86,
     "metadata": {},
     "output_type": "execute_result"
    }
   ],
   "source": [
    "from sklearn.model_selection import train_test_split\n",
    "from sklearn.linear_model import LogisticRegression\n",
    "from sklearn.metrics import classification_report\n",
    "from sklearn.metrics import confusion_matrix\n",
    "import env\n",
    "import prepare\n",
    "import acquire\n",
    "\n",
    "import matplotlib.pyplot as plt\n",
    "%matplotlib inline\n",
    "import seaborn as sns\n",
    "# ignore warnings\n",
    "import warnings\n",
    "warnings.filterwarnings(\"ignore\")\n",
    "\n",
    "titanic = acquire.get_titanic_data()\n",
    "titanic = prepare.prep_titanic_exercise()\n",
    "titanic['child'] = titanic['age'] <= 12\n",
    "titanic.dropna(inplace=True)\n",
    "titanic.head(1)"
   ]
  },
  {
   "cell_type": "markdown",
   "metadata": {},
   "source": [
    "* Start by defining your baseline model."
   ]
  },
  {
   "cell_type": "code",
   "execution_count": 87,
   "metadata": {},
   "outputs": [
    {
     "name": "stdout",
     "output_type": "stream",
     "text": [
      "Our baseline model's accuracy of saying every passanger died is 0.3241758241758242\n"
     ]
    }
   ],
   "source": [
    "titanic['base_line_survived'] = 0\n",
    "titanic_baseline = titanic[['survived' ,'base_line_survived']]\n",
    "baseline_accuracy = (titanic_baseline.survived == titanic_baseline.base_line_survived).mean()\n",
    "print(f\"Our baseline model's accuracy of saying every passanger died is {baseline_accuracy}\")"
   ]
  },
  {
   "cell_type": "markdown",
   "metadata": {},
   "source": [
    "* Create another model that includes age in addition to fare and pclass. Does this model perform better than your baseline?"
   ]
  },
  {
   "cell_type": "code",
   "execution_count": 88,
   "metadata": {},
   "outputs": [
    {
     "name": "stdout",
     "output_type": "stream",
     "text": [
      "train:  (88, 3) , validate:  (39, 3) , test:  (55, 3)\n",
      "train:  (88, 1) , validate:  (39, 1) , test:  (55, 1)\n"
     ]
    }
   ],
   "source": [
    "X = titanic[['pclass','age','fare']]\n",
    "y = titanic[['survived']]\n",
    "X_train_validate, X_test, y_train_validate, y_test = train_test_split(X, y, test_size = .30, \n",
    "                                                                      random_state = 222, \n",
    "                                                                      stratify=y.survived)\n",
    "\n",
    "\n",
    "X_train, X_validate, y_train, y_validate = train_test_split(X_train_validate, y_train_validate, test_size=0.3, \n",
    "                                                            random_state = 222, \n",
    "                                                            stratify=y_train_validate)\n",
    "\n",
    "print(\"train: \", X_train.shape, \", validate: \", X_validate.shape, \", test: \", X_test.shape)\n",
    "print(\"train: \", y_train.shape, \", validate: \", y_validate.shape, \", test: \", y_test.shape)"
   ]
  },
  {
   "cell_type": "code",
   "execution_count": 89,
   "metadata": {},
   "outputs": [
    {
     "name": "stdout",
     "output_type": "stream",
     "text": [
      "Coefficient: \n",
      " [[-0.03645626 -0.02832494  0.00019455]]\n",
      "Intercept: \n",
      " [1.77084362]\n"
     ]
    }
   ],
   "source": [
    "# from sklearn.linear_model import LogisticRegression\n",
    "logit = LogisticRegression(C=1, random_state=222, intercept_scaling=1, solver='lbfgs')\n",
    "logit.fit(X_train, y_train)\n",
    "print('Coefficient: \\n', logit.coef_)\n",
    "print('Intercept: \\n', logit.intercept_)"
   ]
  },
  {
   "cell_type": "code",
   "execution_count": 90,
   "metadata": {},
   "outputs": [
    {
     "name": "stdout",
     "output_type": "stream",
     "text": [
      "Accuracy of Logistic Regression classifier on training set: 0.69\n",
      "[[ 2 26]\n",
      " [ 1 59]]\n",
      "              precision    recall  f1-score   support\n",
      "\n",
      "           0       0.67      0.07      0.13        28\n",
      "           1       0.69      0.98      0.81        60\n",
      "\n",
      "    accuracy                           0.69        88\n",
      "   macro avg       0.68      0.53      0.47        88\n",
      "weighted avg       0.69      0.69      0.60        88\n",
      "\n"
     ]
    }
   ],
   "source": [
    "y_pred = logit.predict(X_train)\n",
    "y_pred_proba = logit.predict_proba(X_train)\n",
    "print('Accuracy of Logistic Regression classifier on training set: {:.2f}'\n",
    "     .format(logit.score(X_train, y_train)))\n",
    "\n",
    "print(confusion_matrix(y_train, y_pred))\n",
    "print(classification_report(y_train, y_pred))"
   ]
  },
  {
   "cell_type": "markdown",
   "metadata": {},
   "source": [
    "* Include sex in your model as well. Note that you'll need to encode or create a dummy variable of this feature before including it in a model."
   ]
  },
  {
   "cell_type": "code",
   "execution_count": 91,
   "metadata": {},
   "outputs": [
    {
     "name": "stdout",
     "output_type": "stream",
     "text": [
      "train:  (88, 5) , validate:  (39, 5) , test:  (55, 5)\n",
      "train:  (88, 1) , validate:  (39, 1) , test:  (55, 1)\n"
     ]
    }
   ],
   "source": [
    "X = titanic[['pclass','age','fare', 'sex']]\n",
    "y = titanic[['survived']]\n",
    "X = pd.get_dummies(X)\n",
    "\n",
    "X_train_validate, X_test, y_train_validate, y_test = train_test_split(X, y, test_size = .30, \n",
    "                                                                      random_state = 222, \n",
    "                                                                      stratify=y.survived)\n",
    "\n",
    "\n",
    "X_train, X_validate, y_train, y_validate = train_test_split(X_train_validate, y_train_validate, test_size=0.3, \n",
    "                                                            random_state = 222, \n",
    "                                                            stratify=y_train_validate)\n",
    "\n",
    "print(\"train: \", X_train.shape, \", validate: \", X_validate.shape, \", test: \", X_test.shape)\n",
    "print(\"train: \", y_train.shape, \", validate: \", y_validate.shape, \", test: \", y_test.shape)"
   ]
  },
  {
   "cell_type": "code",
   "execution_count": 92,
   "metadata": {},
   "outputs": [
    {
     "name": "stdout",
     "output_type": "stream",
     "text": [
      "Coefficient: \n",
      " [[-1.34493711e-01 -2.19663529e-02 -8.36342411e-04  1.34714090e+00\n",
      "  -1.34697243e+00]]\n",
      "Intercept: \n",
      " [2.11410823]\n"
     ]
    }
   ],
   "source": [
    "logit = LogisticRegression(C=1, random_state=222, intercept_scaling=1, solver='lbfgs')\n",
    "logit.fit(X_train, y_train)\n",
    "print('Coefficient: \\n', logit.coef_)\n",
    "print('Intercept: \\n', logit.intercept_)"
   ]
  },
  {
   "cell_type": "code",
   "execution_count": 93,
   "metadata": {},
   "outputs": [
    {
     "name": "stdout",
     "output_type": "stream",
     "text": [
      "Accuracy of Logistic Regression classifier on training set: 0.81\n",
      "[[23  5]\n",
      " [12 48]]\n",
      "              precision    recall  f1-score   support\n",
      "\n",
      "           0       0.66      0.82      0.73        28\n",
      "           1       0.91      0.80      0.85        60\n",
      "\n",
      "    accuracy                           0.81        88\n",
      "   macro avg       0.78      0.81      0.79        88\n",
      "weighted avg       0.83      0.81      0.81        88\n",
      "\n"
     ]
    }
   ],
   "source": [
    "y_pred = logit.predict(X_train)\n",
    "y_pred_proba = logit.predict_proba(X_train)\n",
    "print('Accuracy of Logistic Regression classifier on training set: {:.2f}'\n",
    "     .format(logit.score(X_train, y_train)))\n",
    "print(confusion_matrix(y_train, y_pred))\n",
    "print(classification_report(y_train, y_pred))"
   ]
  },
  {
   "cell_type": "markdown",
   "metadata": {},
   "source": [
    "* Try out other combinations of features and models."
   ]
  },
  {
   "cell_type": "code",
   "execution_count": 94,
   "metadata": {},
   "outputs": [
    {
     "name": "stdout",
     "output_type": "stream",
     "text": [
      "train:  (88, 2) , validate:  (39, 2) , test:  (55, 2)\n",
      "train:  (88, 1) , validate:  (39, 1) , test:  (55, 1)\n"
     ]
    }
   ],
   "source": [
    "X = titanic[['pclass', 'child']]\n",
    "y = titanic[['survived']]\n",
    "\n",
    "X_train_validate, X_test, y_train_validate, y_test = train_test_split(X, y, test_size = .30, \n",
    "                                                                      random_state = 222, \n",
    "                                                                      stratify=y.survived)\n",
    "\n",
    "\n",
    "X_train, X_validate, y_train, y_validate = train_test_split(X_train_validate, y_train_validate, test_size=0.3, \n",
    "                                                            random_state = 222, \n",
    "                                                            stratify=y_train_validate)\n",
    "\n",
    "print(\"train: \", X_train.shape, \", validate: \", X_validate.shape, \", test: \", X_test.shape)\n",
    "print(\"train: \", y_train.shape, \", validate: \", y_validate.shape, \", test: \", y_test.shape)"
   ]
  },
  {
   "cell_type": "code",
   "execution_count": 95,
   "metadata": {},
   "outputs": [
    {
     "name": "stdout",
     "output_type": "stream",
     "text": [
      "Coefficient: \n",
      " [[0.10229889 0.12220898]]\n",
      "Intercept: \n",
      " [0.64210995]\n"
     ]
    }
   ],
   "source": [
    "logit1 = LogisticRegression(C=1, random_state=222, intercept_scaling=1, solver='lbfgs')\n",
    "logit1.fit(X_train, y_train)\n",
    "print('Coefficient: \\n', logit1.coef_)\n",
    "print('Intercept: \\n', logit1.intercept_)"
   ]
  },
  {
   "cell_type": "code",
   "execution_count": 96,
   "metadata": {},
   "outputs": [
    {
     "name": "stdout",
     "output_type": "stream",
     "text": [
      "[[23  5]\n",
      " [12 48]]\n",
      "              precision    recall  f1-score   support\n",
      "\n",
      "           0       0.66      0.82      0.73        28\n",
      "           1       0.91      0.80      0.85        60\n",
      "\n",
      "    accuracy                           0.81        88\n",
      "   macro avg       0.78      0.81      0.79        88\n",
      "weighted avg       0.83      0.81      0.81        88\n",
      "\n",
      "Accuracy of Logistic Regression classifier on training set: 0.68\n"
     ]
    }
   ],
   "source": [
    "print(confusion_matrix(y_train, y_pred))\n",
    "print(classification_report(y_train, y_pred))\n",
    "print('Accuracy of Logistic Regression classifier on training set: {:.2f}'\n",
    "     .format(logit1.score(X_train, y_train)))"
   ]
  },
  {
   "cell_type": "code",
   "execution_count": 97,
   "metadata": {},
   "outputs": [
    {
     "name": "stdout",
     "output_type": "stream",
     "text": [
      "train:  (88, 4) , validate:  (39, 4) , test:  (55, 4)\n",
      "train:  (88, 1) , validate:  (39, 1) , test:  (55, 1)\n"
     ]
    }
   ],
   "source": [
    "X = titanic[['pclass', 'sex', 'age']]\n",
    "y = titanic[['survived']]\n",
    "X = pd.get_dummies(X)\n",
    "\n",
    "X_train_validate, X_test, y_train_validate, y_test = train_test_split(X, y, test_size = .30, \n",
    "                                                                      random_state = 222, \n",
    "                                                                      stratify=y.survived)\n",
    "\n",
    "\n",
    "X_train, X_validate, y_train, y_validate = train_test_split(X_train_validate, y_train_validate, test_size=0.3, \n",
    "                                                            random_state = 222, \n",
    "                                                            stratify=y_train_validate)\n",
    "\n",
    "print(\"train: \", X_train.shape, \", validate: \", X_validate.shape, \", test: \", X_test.shape)\n",
    "print(\"train: \", y_train.shape, \", validate: \", y_validate.shape, \", test: \", y_test.shape)"
   ]
  },
  {
   "cell_type": "code",
   "execution_count": 98,
   "metadata": {},
   "outputs": [
    {
     "name": "stdout",
     "output_type": "stream",
     "text": [
      "Coefficient: \n",
      " [[-0.09976637 -0.02139931  1.34299326 -1.34299709]]\n",
      "Intercept: \n",
      " [1.97617782]\n"
     ]
    }
   ],
   "source": [
    "logit2 = LogisticRegression(C=1, random_state=222, intercept_scaling=1, solver='lbfgs')\n",
    "logit2.fit(X_train, y_train)\n",
    "print('Coefficient: \\n', logit2.coef_)\n",
    "print('Intercept: \\n', logit2.intercept_)"
   ]
  },
  {
   "cell_type": "code",
   "execution_count": 99,
   "metadata": {},
   "outputs": [
    {
     "name": "stdout",
     "output_type": "stream",
     "text": [
      "[[23  5]\n",
      " [12 48]]\n",
      "              precision    recall  f1-score   support\n",
      "\n",
      "           0       0.66      0.82      0.73        28\n",
      "           1       0.91      0.80      0.85        60\n",
      "\n",
      "    accuracy                           0.81        88\n",
      "   macro avg       0.78      0.81      0.79        88\n",
      "weighted avg       0.83      0.81      0.81        88\n",
      "\n",
      "Accuracy of Logistic Regression classifier on training set: 0.76\n"
     ]
    }
   ],
   "source": [
    "print(confusion_matrix(y_train, y_pred))\n",
    "print(classification_report(y_train, y_pred))\n",
    "y_pred = logit2.predict(X_train)\n",
    "y_pred_proba = logit2.predict_proba(X_train)\n",
    "print('Accuracy of Logistic Regression classifier on training set: {:.2f}'\n",
    "     .format(logit2.score(X_train, y_train)))"
   ]
  },
  {
   "cell_type": "code",
   "execution_count": 100,
   "metadata": {},
   "outputs": [
    {
     "name": "stdout",
     "output_type": "stream",
     "text": [
      "train:  (88, 4) , validate:  (39, 4) , test:  (55, 4)\n",
      "train:  (88, 1) , validate:  (39, 1) , test:  (55, 1)\n"
     ]
    }
   ],
   "source": [
    "X = titanic[['pclass', 'sex', 'child']]\n",
    "y = titanic[['survived']]\n",
    "X = pd.get_dummies(X)\n",
    "\n",
    "X_train_validate, X_test, y_train_validate, y_test = train_test_split(X, y, test_size = .30, \n",
    "                                                                      random_state = 222, \n",
    "                                                                      stratify=y.survived)\n",
    "\n",
    "\n",
    "X_train, X_validate, y_train, y_validate = train_test_split(X_train_validate, y_train_validate, test_size=0.3, \n",
    "                                                            random_state = 222, \n",
    "                                                            stratify=y_train_validate)\n",
    "\n",
    "print(\"train: \", X_train.shape, \", validate: \", X_validate.shape, \", test: \", X_test.shape)\n",
    "print(\"train: \", y_train.shape, \", validate: \", y_validate.shape, \", test: \", y_test.shape)"
   ]
  },
  {
   "cell_type": "code",
   "execution_count": 101,
   "metadata": {},
   "outputs": [
    {
     "name": "stdout",
     "output_type": "stream",
     "text": [
      "Coefficient: \n",
      " [[-0.00691075  0.43340434  1.37490414 -1.3748304 ]]\n",
      "Intercept: \n",
      " [1.11277333]\n"
     ]
    }
   ],
   "source": [
    "logit3 = LogisticRegression(C=1, random_state=222, intercept_scaling=1, solver='lbfgs')\n",
    "logit3.fit(X_train, y_train)\n",
    "print('Coefficient: \\n', logit3.coef_)\n",
    "print('Intercept: \\n', logit3.intercept_)"
   ]
  },
  {
   "cell_type": "code",
   "execution_count": 102,
   "metadata": {},
   "outputs": [
    {
     "name": "stdout",
     "output_type": "stream",
     "text": [
      "[[21  7]\n",
      " [14 46]]\n",
      "              precision    recall  f1-score   support\n",
      "\n",
      "           0       0.60      0.75      0.67        28\n",
      "           1       0.87      0.77      0.81        60\n",
      "\n",
      "    accuracy                           0.76        88\n",
      "   macro avg       0.73      0.76      0.74        88\n",
      "weighted avg       0.78      0.76      0.77        88\n",
      "\n",
      "Accuracy of Logistic Regression classifier on training set: 0.81\n"
     ]
    }
   ],
   "source": [
    "print(confusion_matrix(y_train, y_pred))\n",
    "print(classification_report(y_train, y_pred))\n",
    "y_pred = logit3.predict(X_train)\n",
    "y_pred_proba = logit3.predict_proba(X_train)\n",
    "print('Accuracy of Logistic Regression classifier on training set: {:.2f}'\n",
    "     .format(logit3.score(X_train, y_train)))"
   ]
  },
  {
   "cell_type": "markdown",
   "metadata": {},
   "source": [
    "* Use you best 3 models to predict and evaluate on your validate sample."
   ]
  },
  {
   "cell_type": "code",
   "execution_count": 103,
   "metadata": {},
   "outputs": [
    {
     "name": "stdout",
     "output_type": "stream",
     "text": [
      "Accuracy of Logistic Regression classifier on validate set: 0.82\n"
     ]
    }
   ],
   "source": [
    "# Model 1\n",
    "X = titanic[['pclass','age','fare', 'sex']]\n",
    "y = titanic[['survived']]\n",
    "X = pd.get_dummies(X)\n",
    "\n",
    "X_train_validate, X_test, y_train_validate, y_test = train_test_split(X, y, test_size = .30, \n",
    "                                                                      random_state = 222, \n",
    "                                                                      stratify=y.survived)\n",
    "\n",
    "\n",
    "X_train, X_validate, y_train, y_validate = train_test_split(X_train_validate, y_train_validate, test_size=0.3, \n",
    "                                                            random_state = 222, \n",
    "                                                            stratify=y_train_validate)\n",
    "\n",
    "logit = LogisticRegression(C=1, random_state=222, intercept_scaling=1, solver='lbfgs')\n",
    "logit.fit(X_train, y_train)\n",
    "\n",
    "\n",
    "print('Accuracy of Logistic Regression classifier on validate set: {:.2f}'\n",
    "     .format(logit.score(X_validate, y_validate)))"
   ]
  },
  {
   "cell_type": "code",
   "execution_count": 104,
   "metadata": {},
   "outputs": [
    {
     "name": "stdout",
     "output_type": "stream",
     "text": [
      "Accuracy of Logistic Regression classifier on validate set: 0.82\n"
     ]
    }
   ],
   "source": [
    "# Model 2\n",
    "X = titanic[['pclass', 'sex', 'age']]\n",
    "y = titanic[['survived']]\n",
    "X = pd.get_dummies(X)\n",
    "\n",
    "X_train_validate, X_test, y_train_validate, y_test = train_test_split(X, y, test_size = .30, \n",
    "                                                                      random_state = 222, \n",
    "                                                                      stratify=y.survived)\n",
    "\n",
    "\n",
    "X_train, X_validate, y_train, y_validate = train_test_split(X_train_validate, y_train_validate, test_size=0.3, \n",
    "                                                            random_state = 222, \n",
    "                                                            stratify=y_train_validate)\n",
    "\n",
    "logit = LogisticRegression(C=1, random_state=222, intercept_scaling=1, solver='lbfgs')\n",
    "logit.fit(X_train, y_train)\n",
    "\n",
    "\n",
    "print('Accuracy of Logistic Regression classifier on validate set: {:.2f}'\n",
    "     .format(logit.score(X_validate, y_validate)))\n"
   ]
  },
  {
   "cell_type": "code",
   "execution_count": 105,
   "metadata": {},
   "outputs": [
    {
     "name": "stdout",
     "output_type": "stream",
     "text": [
      "Accuracy of Logistic Regression classifier on validate set: 0.79\n"
     ]
    }
   ],
   "source": [
    "# Model 3\n",
    "X = titanic[['pclass', 'sex', 'child']]\n",
    "y = titanic[['survived']]\n",
    "X = pd.get_dummies(X)\n",
    "\n",
    "X_train_validate, X_test, y_train_validate, y_test = train_test_split(X, y, test_size = .30, \n",
    "                                                                      random_state = 222, \n",
    "                                                                      stratify=y.survived)\n",
    "\n",
    "\n",
    "X_train, X_validate, y_train, y_validate = train_test_split(X_train_validate, y_train_validate, test_size=0.3, \n",
    "                                                            random_state = 222, \n",
    "                                                            stratify=y_train_validate)\n",
    "\n",
    "logit = LogisticRegression(C=1, random_state=222, intercept_scaling=1, solver='lbfgs')\n",
    "logit.fit(X_train, y_train)\n",
    "\n",
    "\n",
    "print('Accuracy of Logistic Regression classifier on validate set: {:.2f}'\n",
    "     .format(logit.score(X_validate, y_validate)))\n",
    "\n"
   ]
  },
  {
   "cell_type": "markdown",
   "metadata": {},
   "source": [
    "* Choose you best model from the validation performation, and evaluate it on the test dataset. How do the performance metrics compare to validate? to train?"
   ]
  },
  {
   "cell_type": "code",
   "execution_count": 106,
   "metadata": {},
   "outputs": [
    {
     "name": "stdout",
     "output_type": "stream",
     "text": [
      "Accuracy of Logistic Regression classifier on validate set: 0.71\n",
      "The Accuracy score increased by 1% compared to validate\n"
     ]
    }
   ],
   "source": [
    "# Model 2\n",
    "X = titanic[['pclass', 'sex', 'age']]\n",
    "y = titanic[['survived']]\n",
    "X = pd.get_dummies(X)\n",
    "\n",
    "X_train_validate, X_test, y_train_validate, y_test = train_test_split(X, y, test_size = .30, \n",
    "                                                                      random_state = 222, \n",
    "                                                                      stratify=y.survived)\n",
    "\n",
    "\n",
    "X_train, X_validate, y_train, y_validate = train_test_split(X_train_validate, y_train_validate, test_size=0.3, \n",
    "                                                            random_state = 222, \n",
    "                                                            stratify=y_train_validate)\n",
    "\n",
    "logit = LogisticRegression(C=1, random_state=222, intercept_scaling=1, solver='lbfgs')\n",
    "logit.fit(X_train, y_train)\n",
    "\n",
    "\n",
    "print('Accuracy of Logistic Regression classifier on validate set: {:.2f}'\n",
    "     .format(logit.score(X_test, y_test)))\n",
    "print(\"The Accuracy score increased by 1% compared to validate\")"
   ]
  },
  {
   "cell_type": "markdown",
   "metadata": {},
   "source": [
    "* Bonus1 How do different strategies for handling the missing values in the age column affect model performance?"
   ]
  },
  {
   "cell_type": "markdown",
   "metadata": {},
   "source": [
    "* Bonus2: How do different strategies for encoding sex affect model performance?"
   ]
  },
  {
   "cell_type": "markdown",
   "metadata": {},
   "source": [
    "* Bonus3: scikit-learn's LogisticRegression classifier is actually applying a regularization penalty to the coefficients by default. This penalty causes the magnitude of the coefficients in the resulting model to be smaller than they otherwise would be. This value can be modified with the C hyper parameter. Small values of C correspond to a larger penalty, and large values of C correspond to a smaller penalty.\n",
    "\n",
    "Try out the following values for C and note how the coefficients and the model's performance on both the dataset it was trained on and on the validate split are affected.\n",
    "\n",
    "C= .01 , .1 , 1 , 10 , 100 , 1000"
   ]
  },
  {
   "cell_type": "markdown",
   "metadata": {},
   "source": [
    "* Bonus Bonus: how does scaling the data interact with your choice of C?"
   ]
  },
  {
   "cell_type": "markdown",
   "metadata": {},
   "source": [
    "# Decision Tree\n",
    "\n",
    "In this exercise, we'll continue working with the titanic dataset and building logistic regression models. Throughout this exercise, be sure you are training, evaluation, and comparing models on the train and validate datasets. The test dataset should only be used for your final model."
   ]
  },
  {
   "cell_type": "markdown",
   "metadata": {},
   "source": [
    "* Fit the decision tree classifier to your training sample and transform (i.e. make predictions on the training sample)"
   ]
  },
  {
   "cell_type": "code",
   "execution_count": 107,
   "metadata": {},
   "outputs": [
    {
     "data": {
      "text/plain": [
       "array([[0.63414634, 0.36585366],\n",
       "       [0.02325581, 0.97674419],\n",
       "       [0.02325581, 0.97674419],\n",
       "       [0.02325581, 0.97674419],\n",
       "       [1.        , 0.        ],\n",
       "       [0.63414634, 0.36585366],\n",
       "       [0.63414634, 0.36585366],\n",
       "       [0.02325581, 0.97674419],\n",
       "       [0.63414634, 0.36585366],\n",
       "       [0.63414634, 0.36585366],\n",
       "       [0.63414634, 0.36585366],\n",
       "       [0.63414634, 0.36585366],\n",
       "       [0.02325581, 0.97674419],\n",
       "       [0.02325581, 0.97674419],\n",
       "       [0.02325581, 0.97674419],\n",
       "       [0.63414634, 0.36585366],\n",
       "       [0.63414634, 0.36585366],\n",
       "       [0.02325581, 0.97674419],\n",
       "       [0.        , 1.        ],\n",
       "       [0.        , 1.        ],\n",
       "       [0.63414634, 0.36585366],\n",
       "       [0.02325581, 0.97674419],\n",
       "       [0.02325581, 0.97674419],\n",
       "       [0.63414634, 0.36585366],\n",
       "       [0.02325581, 0.97674419],\n",
       "       [0.02325581, 0.97674419],\n",
       "       [0.63414634, 0.36585366],\n",
       "       [0.63414634, 0.36585366],\n",
       "       [0.02325581, 0.97674419],\n",
       "       [0.02325581, 0.97674419],\n",
       "       [0.02325581, 0.97674419],\n",
       "       [0.02325581, 0.97674419],\n",
       "       [0.        , 1.        ],\n",
       "       [0.02325581, 0.97674419],\n",
       "       [0.02325581, 0.97674419],\n",
       "       [0.63414634, 0.36585366],\n",
       "       [0.63414634, 0.36585366],\n",
       "       [0.02325581, 0.97674419],\n",
       "       [0.02325581, 0.97674419],\n",
       "       [0.02325581, 0.97674419],\n",
       "       [0.63414634, 0.36585366],\n",
       "       [0.63414634, 0.36585366],\n",
       "       [0.63414634, 0.36585366],\n",
       "       [0.63414634, 0.36585366],\n",
       "       [0.63414634, 0.36585366],\n",
       "       [0.02325581, 0.97674419],\n",
       "       [0.02325581, 0.97674419],\n",
       "       [0.63414634, 0.36585366],\n",
       "       [0.63414634, 0.36585366],\n",
       "       [0.02325581, 0.97674419],\n",
       "       [0.63414634, 0.36585366],\n",
       "       [0.63414634, 0.36585366],\n",
       "       [0.02325581, 0.97674419],\n",
       "       [0.02325581, 0.97674419],\n",
       "       [0.02325581, 0.97674419],\n",
       "       [0.02325581, 0.97674419],\n",
       "       [0.02325581, 0.97674419],\n",
       "       [0.63414634, 0.36585366],\n",
       "       [0.02325581, 0.97674419],\n",
       "       [0.02325581, 0.97674419],\n",
       "       [0.02325581, 0.97674419],\n",
       "       [0.63414634, 0.36585366],\n",
       "       [0.02325581, 0.97674419],\n",
       "       [0.63414634, 0.36585366],\n",
       "       [0.63414634, 0.36585366],\n",
       "       [0.02325581, 0.97674419],\n",
       "       [0.02325581, 0.97674419],\n",
       "       [0.02325581, 0.97674419],\n",
       "       [0.63414634, 0.36585366],\n",
       "       [0.63414634, 0.36585366],\n",
       "       [0.02325581, 0.97674419],\n",
       "       [0.02325581, 0.97674419],\n",
       "       [0.63414634, 0.36585366],\n",
       "       [0.63414634, 0.36585366],\n",
       "       [0.02325581, 0.97674419],\n",
       "       [0.63414634, 0.36585366],\n",
       "       [0.02325581, 0.97674419],\n",
       "       [0.63414634, 0.36585366],\n",
       "       [0.63414634, 0.36585366],\n",
       "       [0.02325581, 0.97674419],\n",
       "       [0.63414634, 0.36585366],\n",
       "       [0.02325581, 0.97674419],\n",
       "       [0.63414634, 0.36585366],\n",
       "       [0.63414634, 0.36585366],\n",
       "       [0.02325581, 0.97674419],\n",
       "       [0.63414634, 0.36585366],\n",
       "       [0.63414634, 0.36585366],\n",
       "       [0.63414634, 0.36585366]])"
      ]
     },
     "execution_count": 107,
     "metadata": {},
     "output_type": "execute_result"
    }
   ],
   "source": [
    "from sklearn.tree import DecisionTreeClassifier\n",
    "\n",
    "X = titanic[['pclass', 'sex', 'child']]\n",
    "y = titanic[['survived']]\n",
    "X = pd.get_dummies(X)\n",
    "\n",
    "X_train_validate, X_test, y_train_validate, y_test = train_test_split(X, y, test_size = .30, \n",
    "                                                                      random_state = 222, \n",
    "                                                                      stratify=y.survived)\n",
    "\n",
    "\n",
    "X_train, X_validate, y_train, y_validate = train_test_split(X_train_validate, y_train_validate, test_size=0.3, \n",
    "                                                            random_state = 222, \n",
    "                                                            stratify=y_train_validate)\n",
    "\n",
    "clf = DecisionTreeClassifier(max_depth=2, random_state=222)\n",
    "clf.fit(X_train, y_train)\n",
    "y_pred = clf.predict(X_train)\n",
    "y_pred[0:5]\n",
    "y_pred_proba = clf.predict_proba(X_train)\n",
    "y_pred_proba"
   ]
  },
  {
   "cell_type": "markdown",
   "metadata": {},
   "source": [
    "* Evaluate your in-sample results using the model score, confusion matrix, and classification report."
   ]
  },
  {
   "cell_type": "code",
   "execution_count": 108,
   "metadata": {},
   "outputs": [
    {
     "name": "stdout",
     "output_type": "stream",
     "text": [
      "Accuracy of Decision Tree classifier on training set: 0.82\n",
      "[[27  1]\n",
      " [15 45]]\n",
      "              precision    recall  f1-score   support\n",
      "\n",
      "           0       0.64      0.96      0.77        28\n",
      "           1       0.98      0.75      0.85        60\n",
      "\n",
      "    accuracy                           0.82        88\n",
      "   macro avg       0.81      0.86      0.81        88\n",
      "weighted avg       0.87      0.82      0.82        88\n",
      "\n"
     ]
    }
   ],
   "source": [
    "print('Accuracy of Decision Tree classifier on training set: {:.2f}'\n",
    "     .format(clf.score(X_train, y_train)))\n",
    "print(confusion_matrix(y_train, y_pred))\n",
    "print(classification_report(y_train, y_pred))"
   ]
  },
  {
   "cell_type": "markdown",
   "metadata": {},
   "source": [
    "* Print and clearly label the following: Accuracy, true positive rate, false positive rate, true negative rate, false negative rate, precision, recall, f1-score, and support."
   ]
  },
  {
   "cell_type": "code",
   "execution_count": null,
   "metadata": {},
   "outputs": [],
   "source": []
  },
  {
   "cell_type": "markdown",
   "metadata": {},
   "source": [
    "* Run through steps 2-4 using a different max_depth value."
   ]
  },
  {
   "cell_type": "code",
   "execution_count": 109,
   "metadata": {},
   "outputs": [
    {
     "name": "stdout",
     "output_type": "stream",
     "text": [
      "train:  (88, 5) , validate:  (39, 5) , test:  (55, 5)\n",
      "train:  (88, 1) , validate:  (39, 1) , test:  (55, 1)\n"
     ]
    },
    {
     "data": {
      "text/plain": [
       "array([[0.65      , 0.35      ],\n",
       "       [0.02325581, 0.97674419],\n",
       "       [0.02325581, 0.97674419],\n",
       "       [0.02325581, 0.97674419],\n",
       "       [1.        , 0.        ],\n",
       "       [0.65      , 0.35      ],\n",
       "       [0.65      , 0.35      ],\n",
       "       [0.02325581, 0.97674419],\n",
       "       [0.65      , 0.35      ],\n",
       "       [0.65      , 0.35      ],\n",
       "       [0.65      , 0.35      ],\n",
       "       [0.65      , 0.35      ],\n",
       "       [0.02325581, 0.97674419],\n",
       "       [0.02325581, 0.97674419],\n",
       "       [0.02325581, 0.97674419],\n",
       "       [0.65      , 0.35      ],\n",
       "       [0.65      , 0.35      ],\n",
       "       [0.02325581, 0.97674419],\n",
       "       [0.        , 1.        ],\n",
       "       [0.        , 1.        ],\n",
       "       [0.65      , 0.35      ],\n",
       "       [0.02325581, 0.97674419],\n",
       "       [0.02325581, 0.97674419],\n",
       "       [0.65      , 0.35      ],\n",
       "       [0.02325581, 0.97674419],\n",
       "       [0.02325581, 0.97674419],\n",
       "       [0.65      , 0.35      ],\n",
       "       [0.65      , 0.35      ],\n",
       "       [0.02325581, 0.97674419],\n",
       "       [0.02325581, 0.97674419],\n",
       "       [0.02325581, 0.97674419],\n",
       "       [0.02325581, 0.97674419],\n",
       "       [0.        , 1.        ],\n",
       "       [0.02325581, 0.97674419],\n",
       "       [0.02325581, 0.97674419],\n",
       "       [0.65      , 0.35      ],\n",
       "       [0.65      , 0.35      ],\n",
       "       [0.02325581, 0.97674419],\n",
       "       [0.02325581, 0.97674419],\n",
       "       [0.02325581, 0.97674419],\n",
       "       [0.65      , 0.35      ],\n",
       "       [0.65      , 0.35      ],\n",
       "       [0.65      , 0.35      ],\n",
       "       [0.65      , 0.35      ],\n",
       "       [0.65      , 0.35      ],\n",
       "       [0.02325581, 0.97674419],\n",
       "       [0.02325581, 0.97674419],\n",
       "       [0.65      , 0.35      ],\n",
       "       [0.65      , 0.35      ],\n",
       "       [0.02325581, 0.97674419],\n",
       "       [0.65      , 0.35      ],\n",
       "       [0.65      , 0.35      ],\n",
       "       [0.02325581, 0.97674419],\n",
       "       [0.02325581, 0.97674419],\n",
       "       [0.02325581, 0.97674419],\n",
       "       [0.02325581, 0.97674419],\n",
       "       [0.02325581, 0.97674419],\n",
       "       [0.65      , 0.35      ],\n",
       "       [0.02325581, 0.97674419],\n",
       "       [0.02325581, 0.97674419],\n",
       "       [0.02325581, 0.97674419],\n",
       "       [0.65      , 0.35      ],\n",
       "       [0.02325581, 0.97674419],\n",
       "       [0.65      , 0.35      ],\n",
       "       [0.65      , 0.35      ],\n",
       "       [0.02325581, 0.97674419],\n",
       "       [0.02325581, 0.97674419],\n",
       "       [0.02325581, 0.97674419],\n",
       "       [0.65      , 0.35      ],\n",
       "       [0.65      , 0.35      ],\n",
       "       [0.02325581, 0.97674419],\n",
       "       [0.02325581, 0.97674419],\n",
       "       [0.65      , 0.35      ],\n",
       "       [0.65      , 0.35      ],\n",
       "       [0.02325581, 0.97674419],\n",
       "       [0.65      , 0.35      ],\n",
       "       [0.02325581, 0.97674419],\n",
       "       [0.65      , 0.35      ],\n",
       "       [0.65      , 0.35      ],\n",
       "       [0.02325581, 0.97674419],\n",
       "       [0.65      , 0.35      ],\n",
       "       [0.02325581, 0.97674419],\n",
       "       [0.65      , 0.35      ],\n",
       "       [0.        , 1.        ],\n",
       "       [0.02325581, 0.97674419],\n",
       "       [0.65      , 0.35      ],\n",
       "       [0.65      , 0.35      ],\n",
       "       [0.65      , 0.35      ]])"
      ]
     },
     "execution_count": 109,
     "metadata": {},
     "output_type": "execute_result"
    }
   ],
   "source": [
    "X = titanic[['pclass','age','fare', 'sex']]\n",
    "y = titanic[['survived']]\n",
    "X = pd.get_dummies(X)\n",
    "\n",
    "X_train_validate, X_test, y_train_validate, y_test = train_test_split(X, y, test_size = .30, \n",
    "                                                                      random_state = 222, \n",
    "                                                                      stratify=y.survived)\n",
    "\n",
    "\n",
    "X_train, X_validate, y_train, y_validate = train_test_split(X_train_validate, y_train_validate, test_size=0.3, \n",
    "                                                            random_state = 222, \n",
    "                                                            stratify=y_train_validate)\n",
    "\n",
    "print(\"train: \", X_train.shape, \", validate: \", X_validate.shape, \", test: \", X_test.shape)\n",
    "print(\"train: \", y_train.shape, \", validate: \", y_validate.shape, \", test: \", y_test.shape)\n",
    "\n",
    "clf = DecisionTreeClassifier(max_depth=2, random_state=222)\n",
    "clf.fit(X_train, y_train)\n",
    "y_pred = clf.predict(X_train)\n",
    "y_pred[0:5]\n",
    "y_pred_proba = clf.predict_proba(X_train)\n",
    "y_pred_proba"
   ]
  },
  {
   "cell_type": "code",
   "execution_count": 110,
   "metadata": {},
   "outputs": [
    {
     "name": "stdout",
     "output_type": "stream",
     "text": [
      "Accuracy of Decision Tree classifier on training set: 0.83\n",
      "[[27  1]\n",
      " [14 46]]\n",
      "              precision    recall  f1-score   support\n",
      "\n",
      "           0       0.66      0.96      0.78        28\n",
      "           1       0.98      0.77      0.86        60\n",
      "\n",
      "    accuracy                           0.83        88\n",
      "   macro avg       0.82      0.87      0.82        88\n",
      "weighted avg       0.88      0.83      0.84        88\n",
      "\n"
     ]
    }
   ],
   "source": [
    "print('Accuracy of Decision Tree classifier on training set: {:.2f}'\n",
    "     .format(clf.score(X_train, y_train)))\n",
    "print(confusion_matrix(y_train, y_pred))\n",
    "print(classification_report(y_train, y_pred))"
   ]
  },
  {
   "cell_type": "code",
   "execution_count": 111,
   "metadata": {},
   "outputs": [
    {
     "name": "stdout",
     "output_type": "stream",
     "text": [
      "train:  (88, 5) , validate:  (39, 5) , test:  (55, 5)\n",
      "train:  (88, 1) , validate:  (39, 1) , test:  (55, 1)\n",
      "Accuracy of Decision Tree classifier on training set: 0.90\n",
      "[[24  4]\n",
      " [ 5 55]]\n",
      "              precision    recall  f1-score   support\n",
      "\n",
      "           0       0.83      0.86      0.84        28\n",
      "           1       0.93      0.92      0.92        60\n",
      "\n",
      "    accuracy                           0.90        88\n",
      "   macro avg       0.88      0.89      0.88        88\n",
      "weighted avg       0.90      0.90      0.90        88\n",
      "\n"
     ]
    }
   ],
   "source": [
    "X = titanic[['pclass','age','fare', 'sex']]\n",
    "y = titanic[['survived']]\n",
    "X = pd.get_dummies(X)\n",
    "\n",
    "X_train_validate, X_test, y_train_validate, y_test = train_test_split(X, y, test_size = .30, \n",
    "                                                                      random_state = 222, \n",
    "                                                                      stratify=y.survived)\n",
    "\n",
    "\n",
    "X_train, X_validate, y_train, y_validate = train_test_split(X_train_validate, y_train_validate, test_size=0.3, \n",
    "                                                            random_state = 222, \n",
    "                                                            stratify=y_train_validate)\n",
    "\n",
    "print(\"train: \", X_train.shape, \", validate: \", X_validate.shape, \", test: \", X_test.shape)\n",
    "print(\"train: \", y_train.shape, \", validate: \", y_validate.shape, \", test: \", y_test.shape)\n",
    "\n",
    "clf = DecisionTreeClassifier(max_depth=5, random_state=222)\n",
    "clf.fit(X_train, y_train)\n",
    "y_pred = clf.predict(X_train)\n",
    "y_pred_proba = clf.predict_proba(X_train)\n",
    "print('Accuracy of Decision Tree classifier on training set: {:.2f}'\n",
    "     .format(clf.score(X_train, y_train)))\n",
    "print(confusion_matrix(y_train, y_pred))\n",
    "print(classification_report(y_train, y_pred))"
   ]
  },
  {
   "cell_type": "markdown",
   "metadata": {},
   "source": [
    "* Which performs better on your in-sample data?\n",
    "  - Answer: The one with the lower threshold"
   ]
  },
  {
   "cell_type": "markdown",
   "metadata": {},
   "source": [
    "# Random Forest\n",
    "\n",
    "* Fit the Random Forest classifier to your training sample and transform (i.e. make predictions on the training sample) setting the random_state accordingly and setting min_samples_leaf = 1 and max_depth = 20."
   ]
  },
  {
   "cell_type": "code",
   "execution_count": 112,
   "metadata": {},
   "outputs": [
    {
     "data": {
      "text/plain": [
       "RandomForestClassifier(max_depth=20, random_state=222)"
      ]
     },
     "execution_count": 112,
     "metadata": {},
     "output_type": "execute_result"
    }
   ],
   "source": [
    "from sklearn.ensemble import RandomForestClassifier\n",
    "\n",
    "X = titanic[['pclass','age','fare', 'sex']]\n",
    "y = titanic[['survived']]\n",
    "X = pd.get_dummies(X)\n",
    "\n",
    "X_train_validate, X_test, y_train_validate, y_test = train_test_split(X, y, test_size = .30, \n",
    "                                                                      random_state = 222, \n",
    "                                                                      stratify=y.survived)\n",
    "\n",
    "\n",
    "X_train, X_validate, y_train, y_validate = train_test_split(X_train_validate, y_train_validate, test_size=0.3, \n",
    "                                                            random_state = 222, \n",
    "                                                            stratify=y_train_validate)\n",
    "\n",
    "rf = RandomForestClassifier(bootstrap=True, \n",
    "                            class_weight=None, \n",
    "                            criterion='gini',\n",
    "                            min_samples_leaf=1,\n",
    "                            n_estimators=100,\n",
    "                            max_depth=20, \n",
    "                            random_state=222)\n",
    "\n",
    "rf.fit(X_train, y_train)"
   ]
  },
  {
   "cell_type": "markdown",
   "metadata": {},
   "source": [
    "* Evaluate your results using the model score, confusion matrix, and classification report."
   ]
  },
  {
   "cell_type": "code",
   "execution_count": 113,
   "metadata": {},
   "outputs": [
    {
     "name": "stdout",
     "output_type": "stream",
     "text": [
      "Accuracy of Decision Tree classifier on training set: 0.90\n",
      "[[24  4]\n",
      " [ 5 55]]\n",
      "              precision    recall  f1-score   support\n",
      "\n",
      "           0       0.83      0.86      0.84        28\n",
      "           1       0.93      0.92      0.92        60\n",
      "\n",
      "    accuracy                           0.90        88\n",
      "   macro avg       0.88      0.89      0.88        88\n",
      "weighted avg       0.90      0.90      0.90        88\n",
      "\n",
      "Accuracy of random forest classifier on test set: 0.74\n"
     ]
    }
   ],
   "source": [
    "print('Accuracy of Decision Tree classifier on training set: {:.2f}'\n",
    "     .format(clf.score(X_train, y_train)))\n",
    "print(confusion_matrix(y_train, y_pred))\n",
    "print(classification_report(y_train, y_pred))\n",
    "print('Accuracy of random forest classifier on test set: {:.2f}'\n",
    "     .format(rf.score(X_validate, y_validate)))"
   ]
  },
  {
   "cell_type": "markdown",
   "metadata": {},
   "source": [
    "* Print and clearly label the following: Accuracy, true positive rate, false positive rate, true negative rate, false negative rate, precision, recall, f1-score, and support."
   ]
  },
  {
   "cell_type": "code",
   "execution_count": null,
   "metadata": {},
   "outputs": [],
   "source": []
  },
  {
   "cell_type": "markdown",
   "metadata": {},
   "source": [
    "* Run through steps increasing your min_samples_leaf to 5 and decreasing your max_depth to 3."
   ]
  },
  {
   "cell_type": "code",
   "execution_count": 114,
   "metadata": {},
   "outputs": [
    {
     "data": {
      "text/plain": [
       "RandomForestClassifier(max_depth=3, min_samples_leaf=5, random_state=222)"
      ]
     },
     "execution_count": 114,
     "metadata": {},
     "output_type": "execute_result"
    }
   ],
   "source": [
    "from sklearn.ensemble import RandomForestClassifier\n",
    "\n",
    "X = titanic[['pclass','age','fare', 'sex']]\n",
    "y = titanic[['survived']]\n",
    "X = pd.get_dummies(X)\n",
    "\n",
    "X_train_validate, X_test, y_train_validate, y_test = train_test_split(X, y, test_size = .30, \n",
    "                                                                      random_state = 222, \n",
    "                                                                      stratify=y.survived)\n",
    "\n",
    "\n",
    "X_train, X_validate, y_train, y_validate = train_test_split(X_train_validate, y_train_validate, test_size=0.3, \n",
    "                                                            random_state = 222, \n",
    "                                                            stratify=y_train_validate)\n",
    "\n",
    "rf = RandomForestClassifier(bootstrap=True, \n",
    "                            class_weight=None, \n",
    "                            criterion='gini',\n",
    "                            min_samples_leaf=5,\n",
    "                            n_estimators=100,\n",
    "                            max_depth=3, \n",
    "                            random_state=222)\n",
    "\n",
    "rf.fit(X_train, y_train)"
   ]
  },
  {
   "cell_type": "markdown",
   "metadata": {},
   "source": [
    "* What are the differences in the evaluation metrics? Which performs better on your in-sample data? Why?"
   ]
  },
  {
   "cell_type": "code",
   "execution_count": 115,
   "metadata": {
    "scrolled": true
   },
   "outputs": [
    {
     "name": "stdout",
     "output_type": "stream",
     "text": [
      "Accuracy of Decision Tree classifier on training set: 0.90\n",
      "[[24  4]\n",
      " [ 5 55]]\n",
      "              precision    recall  f1-score   support\n",
      "\n",
      "           0       0.83      0.86      0.84        28\n",
      "           1       0.93      0.92      0.92        60\n",
      "\n",
      "    accuracy                           0.90        88\n",
      "   macro avg       0.88      0.89      0.88        88\n",
      "weighted avg       0.90      0.90      0.90        88\n",
      "\n"
     ]
    }
   ],
   "source": [
    "print('Accuracy of Decision Tree classifier on training set: {:.2f}'\n",
    "     .format(clf.score(X_train, y_train)))\n",
    "print(confusion_matrix(y_train, y_pred))\n",
    "print(classification_report(y_train, y_pred))"
   ]
  },
  {
   "cell_type": "code",
   "execution_count": 116,
   "metadata": {},
   "outputs": [
    {
     "name": "stdout",
     "output_type": "stream",
     "text": [
      "Accuracy of random forest classifier on test set: 0.77\n"
     ]
    }
   ],
   "source": [
    "print('Accuracy of random forest classifier on test set: {:.2f}'\n",
    "     .format(rf.score(X_validate, y_validate)))"
   ]
  },
  {
   "cell_type": "markdown",
   "metadata": {},
   "source": [
    "* After making a few models, which one has the best performance (or closest metrics) on both train and validate?"
   ]
  },
  {
   "cell_type": "code",
   "execution_count": null,
   "metadata": {},
   "outputs": [],
   "source": []
  },
  {
   "cell_type": "markdown",
   "metadata": {},
   "source": []
  },
  {
   "cell_type": "markdown",
   "metadata": {},
   "source": [
    "# K-Nearest Neighbor\n",
    "\n",
    "* Fit a K-Nearest Neighbors classifier to your training sample and transform (i.e. make predictions on the training sample)"
   ]
  },
  {
   "cell_type": "code",
   "execution_count": 117,
   "metadata": {},
   "outputs": [
    {
     "data": {
      "text/html": [
       "<div>\n",
       "<style scoped>\n",
       "    .dataframe tbody tr th:only-of-type {\n",
       "        vertical-align: middle;\n",
       "    }\n",
       "\n",
       "    .dataframe tbody tr th {\n",
       "        vertical-align: top;\n",
       "    }\n",
       "\n",
       "    .dataframe thead th {\n",
       "        text-align: right;\n",
       "    }\n",
       "</style>\n",
       "<table border=\"1\" class=\"dataframe\">\n",
       "  <thead>\n",
       "    <tr style=\"text-align: right;\">\n",
       "      <th></th>\n",
       "      <th>pclass</th>\n",
       "      <th>age</th>\n",
       "      <th>fare</th>\n",
       "      <th>sibsp</th>\n",
       "      <th>parch</th>\n",
       "    </tr>\n",
       "  </thead>\n",
       "  <tbody>\n",
       "    <tr>\n",
       "      <th>123</th>\n",
       "      <td>2</td>\n",
       "      <td>32.5</td>\n",
       "      <td>13.0000</td>\n",
       "      <td>0</td>\n",
       "      <td>0</td>\n",
       "    </tr>\n",
       "    <tr>\n",
       "      <th>689</th>\n",
       "      <td>1</td>\n",
       "      <td>15.0</td>\n",
       "      <td>211.3375</td>\n",
       "      <td>0</td>\n",
       "      <td>1</td>\n",
       "    </tr>\n",
       "    <tr>\n",
       "      <th>174</th>\n",
       "      <td>1</td>\n",
       "      <td>56.0</td>\n",
       "      <td>30.6958</td>\n",
       "      <td>0</td>\n",
       "      <td>0</td>\n",
       "    </tr>\n",
       "    <tr>\n",
       "      <th>88</th>\n",
       "      <td>1</td>\n",
       "      <td>23.0</td>\n",
       "      <td>263.0000</td>\n",
       "      <td>3</td>\n",
       "      <td>2</td>\n",
       "    </tr>\n",
       "    <tr>\n",
       "      <th>712</th>\n",
       "      <td>1</td>\n",
       "      <td>48.0</td>\n",
       "      <td>52.0000</td>\n",
       "      <td>1</td>\n",
       "      <td>0</td>\n",
       "    </tr>\n",
       "  </tbody>\n",
       "</table>\n",
       "</div>"
      ],
      "text/plain": [
       "     pclass   age      fare  sibsp  parch\n",
       "123       2  32.5   13.0000      0      0\n",
       "689       1  15.0  211.3375      0      1\n",
       "174       1  56.0   30.6958      0      0\n",
       "88        1  23.0  263.0000      3      2\n",
       "712       1  48.0   52.0000      1      0"
      ]
     },
     "execution_count": 117,
     "metadata": {},
     "output_type": "execute_result"
    }
   ],
   "source": [
    "from sklearn.neighbors import KNeighborsClassifier\n",
    "\n",
    "X = titanic[['pclass','age','fare','sibsp','parch']]\n",
    "y = titanic[['survived']]\n",
    "\n",
    "X_train, X_test, y_train, y_test = train_test_split(X, y, test_size = .30, random_state = 123)\n",
    "\n",
    "X_train.head()"
   ]
  },
  {
   "cell_type": "markdown",
   "metadata": {},
   "source": [
    "* Evaluate your results using the model score, confusion matrix, and classification report."
   ]
  },
  {
   "cell_type": "code",
   "execution_count": 120,
   "metadata": {},
   "outputs": [
    {
     "name": "stdout",
     "output_type": "stream",
     "text": [
      "Accuracy of KNN classifier on training set: 0.72\n",
      "[[18 28]\n",
      " [ 7 74]]\n",
      "              precision    recall  f1-score   support\n",
      "\n",
      "           0       0.72      0.39      0.51        46\n",
      "           1       0.73      0.91      0.81        81\n",
      "\n",
      "    accuracy                           0.72       127\n",
      "   macro avg       0.72      0.65      0.66       127\n",
      "weighted avg       0.72      0.72      0.70       127\n",
      "\n"
     ]
    }
   ],
   "source": [
    "knn = KNeighborsClassifier(n_neighbors=5, weights='uniform')\n",
    "knn.fit(X_train, y_train)\n",
    "y_pred = knn.predict(X_train)\n",
    "y_pred_proba = knn.predict_proba(X_train)\n",
    "print('Accuracy of KNN classifier on training set: {:.2f}'\n",
    "     .format(knn.score(X_train, y_train)))\n",
    "print(confusion_matrix(y_train, y_pred))\n",
    "print(classification_report(y_train, y_pred))"
   ]
  },
  {
   "cell_type": "markdown",
   "metadata": {},
   "source": [
    "* Print and clearly label the following: Accuracy, true positive rate, false positive rate, true negative rate, false negative rate, precision, recall, f1-score, and support."
   ]
  },
  {
   "cell_type": "code",
   "execution_count": 121,
   "metadata": {},
   "outputs": [
    {
     "name": "stdout",
     "output_type": "stream",
     "text": [
      "Accuracy of KNN classifier on training set: 0.72\n",
      "[[19 27]\n",
      " [ 9 72]]\n",
      "              precision    recall  f1-score   support\n",
      "\n",
      "           0       0.68      0.41      0.51        46\n",
      "           1       0.73      0.89      0.80        81\n",
      "\n",
      "    accuracy                           0.72       127\n",
      "   macro avg       0.70      0.65      0.66       127\n",
      "weighted avg       0.71      0.72      0.70       127\n",
      "\n"
     ]
    }
   ],
   "source": [
    "knn = KNeighborsClassifier(n_neighbors=10, weights='uniform')\n",
    "knn.fit(X_train, y_train)\n",
    "y_pred = knn.predict(X_train)\n",
    "y_pred_proba = knn.predict_proba(X_train)\n",
    "print('Accuracy of KNN classifier on training set: {:.2f}'\n",
    "     .format(knn.score(X_train, y_train)))\n",
    "print(confusion_matrix(y_train, y_pred))\n",
    "print(classification_report(y_train, y_pred))"
   ]
  },
  {
   "cell_type": "markdown",
   "metadata": {},
   "source": [
    "* Run through steps 2-4 setting k to 10"
   ]
  },
  {
   "cell_type": "code",
   "execution_count": null,
   "metadata": {},
   "outputs": [],
   "source": [
    "knn = KNeighborsClassifier(n_neighbors=10, weights='uniform')\n",
    "knn.fit(X_train, y_train)\n",
    "y_pred = knn.predict(X_train)\n",
    "y_pred_proba = knn.predict_proba(X_train)\n",
    "print('Accuracy of KNN classifier on training set: {:.2f}'\n",
    "     .format(knn.score(X_train, y_train)))\n",
    "print(confusion_matrix(y_train, y_pred))\n",
    "print(classification_report(y_train, y_pred))"
   ]
  },
  {
   "cell_type": "markdown",
   "metadata": {},
   "source": [
    "* Run through setps 2-4 setting k to 20"
   ]
  },
  {
   "cell_type": "code",
   "execution_count": 123,
   "metadata": {},
   "outputs": [
    {
     "name": "stdout",
     "output_type": "stream",
     "text": [
      "Accuracy of KNN classifier on training set: 0.70\n",
      "[[19 27]\n",
      " [11 70]]\n",
      "              precision    recall  f1-score   support\n",
      "\n",
      "           0       0.63      0.41      0.50        46\n",
      "           1       0.72      0.86      0.79        81\n",
      "\n",
      "    accuracy                           0.70       127\n",
      "   macro avg       0.68      0.64      0.64       127\n",
      "weighted avg       0.69      0.70      0.68       127\n",
      "\n"
     ]
    }
   ],
   "source": [
    "knn = KNeighborsClassifier(n_neighbors=20, weights='uniform')\n",
    "knn.fit(X_train, y_train)\n",
    "y_pred = knn.predict(X_train)\n",
    "y_pred_proba = knn.predict_proba(X_train)\n",
    "print('Accuracy of KNN classifier on training set: {:.2f}'\n",
    "     .format(knn.score(X_train, y_train)))\n",
    "print(confusion_matrix(y_train, y_pred))\n",
    "print(classification_report(y_train, y_pred))"
   ]
  },
  {
   "cell_type": "markdown",
   "metadata": {},
   "source": [
    "* What are the differences in the evaluation metrics? Which performs better on your in-sample data? Why?\n",
    "  - **Answer**: N_Neighbors = 5 works the best because it restricts the number of neighbors to a reasonable number thus limiting overlap."
   ]
  },
  {
   "cell_type": "markdown",
   "metadata": {},
   "source": [
    "### Test \n",
    "For both the iris and the titanic data,"
   ]
  },
  {
   "cell_type": "markdown",
   "metadata": {},
   "source": [
    "* Determine which model (with hyperparameters) performs the best (try reducing the number of features to the top 4 features in terms of information gained for each feature individually)."
   ]
  },
  {
   "cell_type": "code",
   "execution_count": 132,
   "metadata": {},
   "outputs": [
    {
     "data": {
      "text/html": [
       "<div>\n",
       "<style scoped>\n",
       "    .dataframe tbody tr th:only-of-type {\n",
       "        vertical-align: middle;\n",
       "    }\n",
       "\n",
       "    .dataframe tbody tr th {\n",
       "        vertical-align: top;\n",
       "    }\n",
       "\n",
       "    .dataframe thead th {\n",
       "        text-align: right;\n",
       "    }\n",
       "</style>\n",
       "<table border=\"1\" class=\"dataframe\">\n",
       "  <thead>\n",
       "    <tr style=\"text-align: right;\">\n",
       "      <th></th>\n",
       "      <th>pclass</th>\n",
       "      <th>age</th>\n",
       "      <th>sex_female</th>\n",
       "      <th>sex_male</th>\n",
       "    </tr>\n",
       "  </thead>\n",
       "  <tbody>\n",
       "    <tr>\n",
       "      <th>123</th>\n",
       "      <td>2</td>\n",
       "      <td>32.5</td>\n",
       "      <td>1</td>\n",
       "      <td>0</td>\n",
       "    </tr>\n",
       "    <tr>\n",
       "      <th>689</th>\n",
       "      <td>1</td>\n",
       "      <td>15.0</td>\n",
       "      <td>1</td>\n",
       "      <td>0</td>\n",
       "    </tr>\n",
       "    <tr>\n",
       "      <th>174</th>\n",
       "      <td>1</td>\n",
       "      <td>56.0</td>\n",
       "      <td>0</td>\n",
       "      <td>1</td>\n",
       "    </tr>\n",
       "    <tr>\n",
       "      <th>88</th>\n",
       "      <td>1</td>\n",
       "      <td>23.0</td>\n",
       "      <td>1</td>\n",
       "      <td>0</td>\n",
       "    </tr>\n",
       "    <tr>\n",
       "      <th>712</th>\n",
       "      <td>1</td>\n",
       "      <td>48.0</td>\n",
       "      <td>0</td>\n",
       "      <td>1</td>\n",
       "    </tr>\n",
       "  </tbody>\n",
       "</table>\n",
       "</div>"
      ],
      "text/plain": [
       "     pclass   age  sex_female  sex_male\n",
       "123       2  32.5           1         0\n",
       "689       1  15.0           1         0\n",
       "174       1  56.0           0         1\n",
       "88        1  23.0           1         0\n",
       "712       1  48.0           0         1"
      ]
     },
     "execution_count": 132,
     "metadata": {},
     "output_type": "execute_result"
    }
   ],
   "source": [
    "X = titanic[['pclass','age','sex']]\n",
    "y = titanic[['survived']]\n",
    "X = pd.get_dummies(X)\n",
    "\n",
    "\n",
    "X_train, X_test, y_train, y_test = train_test_split(X, y, test_size = .30, random_state = 123)\n",
    "\n",
    "X_train.head()"
   ]
  },
  {
   "cell_type": "code",
   "execution_count": 133,
   "metadata": {},
   "outputs": [
    {
     "name": "stdout",
     "output_type": "stream",
     "text": [
      "Accuracy of KNN classifier on training set: 0.79\n",
      "[[30 16]\n",
      " [11 70]]\n",
      "              precision    recall  f1-score   support\n",
      "\n",
      "           0       0.73      0.65      0.69        46\n",
      "           1       0.81      0.86      0.84        81\n",
      "\n",
      "    accuracy                           0.79       127\n",
      "   macro avg       0.77      0.76      0.76       127\n",
      "weighted avg       0.78      0.79      0.78       127\n",
      "\n"
     ]
    }
   ],
   "source": [
    "knn = KNeighborsClassifier(n_neighbors=5, weights='uniform')\n",
    "knn.fit(X_train, y_train)\n",
    "y_pred = knn.predict(X_train)\n",
    "y_pred_proba = knn.predict_proba(X_train)\n",
    "print('Accuracy of KNN classifier on training set: {:.2f}'\n",
    "     .format(knn.score(X_train, y_train)))\n",
    "print(confusion_matrix(y_train, y_pred))\n",
    "print(classification_report(y_train, y_pred))"
   ]
  },
  {
   "cell_type": "markdown",
   "metadata": {},
   "source": [
    "* Create a new dataframe with top 4 features."
   ]
  },
  {
   "cell_type": "code",
   "execution_count": null,
   "metadata": {},
   "outputs": [],
   "source": []
  },
  {
   "cell_type": "markdown",
   "metadata": {},
   "source": [
    "* Use the top performing algorithm with the metaparameters used in that model. Create the object, fit, transform on in-sample data, and evaluate the results with the training data. Compare your evaluation metrics with those from the original model (with all the features)."
   ]
  },
  {
   "cell_type": "code",
   "execution_count": null,
   "metadata": {},
   "outputs": [],
   "source": []
  },
  {
   "cell_type": "markdown",
   "metadata": {},
   "source": [
    "* Run your final model on your out-of-sample dataframe (test_df). Evaluate the results."
   ]
  },
  {
   "cell_type": "markdown",
   "metadata": {},
   "source": [
    "## Feature Engineering"
   ]
  },
  {
   "cell_type": "markdown",
   "metadata": {},
   "source": [
    "## Titanic Data\n",
    "* Create a feature named who, this should be either man, woman, or child. How does including this feature affect your model's performance?\n",
    "* Create a feature named adult_male that is either a 1 or a 0. How does this affect your model's predictions?"
   ]
  },
  {
   "cell_type": "markdown",
   "metadata": {},
   "source": [
    "### Iris Data\n",
    "* Create features named petal_area and sepal_area."
   ]
  },
  {
   "cell_type": "code",
   "execution_count": null,
   "metadata": {},
   "outputs": [],
   "source": []
  },
  {
   "cell_type": "code",
   "execution_count": null,
   "metadata": {},
   "outputs": [],
   "source": []
  }
 ],
 "metadata": {
  "kernelspec": {
   "display_name": "Python 3",
   "language": "python",
   "name": "python3"
  },
  "language_info": {
   "codemirror_mode": {
    "name": "ipython",
    "version": 3
   },
   "file_extension": ".py",
   "mimetype": "text/x-python",
   "name": "python",
   "nbconvert_exporter": "python",
   "pygments_lexer": "ipython3",
   "version": "3.8.3"
  }
 },
 "nbformat": 4,
 "nbformat_minor": 4
}
